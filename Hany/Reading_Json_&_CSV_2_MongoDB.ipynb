{
 "cells": [
  {
   "cell_type": "markdown",
   "id": "f32e985f",
   "metadata": {},
   "source": [
    "The OS module in Python is a part of the standard library of the programming language. When imported, it lets the user interact with the native OS Python is currently running on. \n",
    "\n",
    "\n",
    "## MongoDB:\n",
    "https://www.mongodb.com/compatibility/json-to-mongodb\n",
    "\n",
    "https://www.geeksforgeeks.org/os-module-python-examples/\n",
    "\n",
    "https://www.geeksforgeeks.org/import-data-to-mongodb/\n",
    "\n",
    "https://www.geeksforgeeks.org/python-list-files-in-a-directory/\n",
    "\n",
    "https://stackoverflow.com/questions/55932917/how-to-iterate-over-json-files-in-a-directory-and-upload-to-mongodb\n",
    " \n",
    "\n",
    "## SPARK:\n",
    "https://sparkbyexamples.com/spark/spark-read-json-from-multiline/\n",
    "\n",
    "https://sparkbyexamples.com/spark/spark-read-and-write-json-file/\n"
   ]
  },
  {
   "cell_type": "markdown",
   "id": "43dbe8b5",
   "metadata": {},
   "source": [
    "# Installations:\n",
    "pip install pymongo\n",
    "\n",
    "pip install httpcore"
   ]
  },
  {
   "cell_type": "markdown",
   "id": "1e0e75f2",
   "metadata": {},
   "source": [
    "# Read JSON files from the resources folder and save them into MongoDB"
   ]
  },
  {
   "cell_type": "markdown",
   "id": "049d9566",
   "metadata": {},
   "source": [
    "1 - Read JSON files from the resources folder.\n",
    "\n",
    "2 - Parse the JSON data.\n",
    "\n",
    "3 - Connect to your MongoDB database.\n",
    "\n",
    "4 - Save the parsed data into the MongoDB collection."
   ]
  },
  {
   "cell_type": "code",
   "execution_count": 19,
   "id": "dc2730d4",
   "metadata": {},
   "outputs": [],
   "source": [
    "# The OS module in Python is a part of the standard library of the programming language. When imported, it lets the user interact with the native OS Python is currently running on. \n",
    "#\n",
    "import os\n",
    "import json\n",
    "import pymongo\n",
    "from pymongo import MongoClient"
   ]
  },
  {
   "cell_type": "code",
   "execution_count": 2,
   "id": "5c9a25dd",
   "metadata": {},
   "outputs": [],
   "source": [
    "# MongoDB connection setup\n",
    "client = MongoClient('mongodb://localhost:27017/')\n",
    "db = client['cyberbullying_R_JSONs_test1']   # database name\n",
    "collection = db['cyberbullying_from_jsons']  # collection name"
   ]
  },
  {
   "cell_type": "code",
   "execution_count": 11,
   "id": "c5553048",
   "metadata": {},
   "outputs": [],
   "source": [
    "# Read JSON files from the resources folder\n",
    "json_Resources_folder = \"resources\"\n",
    "json_files = [f for f in os.listdir(json_Resources_folder) if f.endswith('.json')]"
   ]
  },
  {
   "cell_type": "code",
   "execution_count": 12,
   "id": "3a10ea6b",
   "metadata": {},
   "outputs": [
    {
     "name": "stdout",
     "output_type": "stream",
     "text": [
      "Inserted 2 records from 'old_town_road_clean.json' into MongoDB.\n"
     ]
    }
   ],
   "source": [
    "# Loop through JSON files, Parse and save JSON data into MongoDB\n",
    "#file = open(file, encoding=\"utf-8\")\n",
    "for file in json_files:\n",
    "    with open(os.path.join(json_Resources_folder, file), 'r') as json_file:\n",
    "        data = json.load(json_file)\n",
    "        collection.insert_many([data])\n",
    "        print(f\"Inserted {len(data)} records from '{file}' into MongoDB.\")"
   ]
  },
  {
   "cell_type": "code",
   "execution_count": null,
   "id": "69821bfa",
   "metadata": {},
   "outputs": [],
   "source": [
    "# Close the MongoDB connection\n",
    "client.close()"
   ]
  },
  {
   "cell_type": "code",
   "execution_count": null,
   "id": "a8b5487f",
   "metadata": {},
   "outputs": [],
   "source": []
  },
  {
   "cell_type": "markdown",
   "id": "a9179f28",
   "metadata": {},
   "source": [
    "# Read CSV files from the resources folder and save them into MongoDB"
   ]
  },
  {
   "cell_type": "markdown",
   "id": "29204378",
   "metadata": {},
   "source": [
    "1 - MongoDB connection setup. \n",
    "\n",
    "2 - Identify the folder path containing CSV files. \n",
    "\n",
    "3 - Loop through CSV files in the folder. \n",
    "\n",
    "4 - Read CSV into a DataFrame. \n",
    "\n",
    "5 - Convert DataFrame to a list of dictionaries. \n",
    "\n",
    "6 - Insert data into MongoDB collection."
   ]
  },
  {
   "cell_type": "code",
   "execution_count": 13,
   "id": "fdbd3efe",
   "metadata": {},
   "outputs": [],
   "source": [
    "# The OS module in Python is a part of the standard library of the programming language. When imported, it lets the user interact with the native OS Python is currently running on. \n",
    "#\n",
    "import os\n",
    "import pandas as pd\n",
    "from pymongo import MongoClient"
   ]
  },
  {
   "cell_type": "code",
   "execution_count": 14,
   "id": "2af2122b",
   "metadata": {},
   "outputs": [],
   "source": [
    "# MongoDB connection setup\n",
    "client = MongoClient('mongodb://localhost:27017/')\n",
    "db = client['cyberbullying_R_CSV_test2']  # database name\n",
    "collection = db['cyberbullying_from_csv']  # collection name"
   ]
  },
  {
   "cell_type": "code",
   "execution_count": 15,
   "id": "231780ee",
   "metadata": {},
   "outputs": [],
   "source": [
    "# Folder path containing CSV files\n",
    "csv_Resource_folder = \"resources\""
   ]
  },
  {
   "cell_type": "code",
   "execution_count": 16,
   "id": "d0bb16f7",
   "metadata": {},
   "outputs": [
    {
     "name": "stdout",
     "output_type": "stream",
     "text": [
      "Inserted 1265 records from 'old_town_road.csv' into MongoDB.\n",
      "Inserted 677 records from 'old_town_road_clean.csv' into MongoDB.\n"
     ]
    }
   ],
   "source": [
    "# Loop through CSV files in the folder\n",
    "for csv_file in os.listdir(csv_Resource_folder):\n",
    "    if csv_file.endswith('.csv'):\n",
    "        csv_path = os.path.join(csv_Resource_folder, csv_file)\n",
    "        \n",
    "        # Read CSV into a DataFrame\n",
    "        df = pd.read_csv(csv_path)\n",
    "        \n",
    "        # Convert DataFrame to a list of dictionaries\n",
    "        data_to_insert = df.to_dict(orient='records')\n",
    "        \n",
    "        # Insert data into MongoDB collection\n",
    "        collection.insert_many(data_to_insert)\n",
    "        \n",
    "        print(f\"Inserted {len(data_to_insert)} records from '{csv_file}' into MongoDB.\")"
   ]
  },
  {
   "cell_type": "code",
   "execution_count": null,
   "id": "8b07f58f",
   "metadata": {},
   "outputs": [],
   "source": [
    "# Close MongoDB connection\n",
    "client.close()"
   ]
  }
 ],
 "metadata": {
  "kernelspec": {
   "display_name": "PythonData2",
   "language": "python",
   "name": "pythondata2"
  },
  "language_info": {
   "codemirror_mode": {
    "name": "ipython",
    "version": 3
   },
   "file_extension": ".py",
   "mimetype": "text/x-python",
   "name": "python",
   "nbconvert_exporter": "python",
   "pygments_lexer": "ipython3",
   "version": "3.11.4"
  }
 },
 "nbformat": 4,
 "nbformat_minor": 5
}
