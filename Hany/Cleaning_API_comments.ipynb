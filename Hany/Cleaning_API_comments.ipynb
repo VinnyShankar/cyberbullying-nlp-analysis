{
 "cells": [
  {
   "cell_type": "code",
   "execution_count": 1,
   "id": "fbf45d10",
   "metadata": {},
   "outputs": [],
   "source": [
    "import csv\n",
    "import pandas as pd\n",
    "from googletrans import Translator, constants\n",
    "from langdetect import detect\n",
    "#from google_trans_new import google_translator\n",
    "# init the Google API translator\n",
    "translator = Translator()\n",
    "import langid"
   ]
  },
  {
   "cell_type": "code",
   "execution_count": 2,
   "id": "12cb6387",
   "metadata": {},
   "outputs": [
    {
     "name": "stdout",
     "output_type": "stream",
     "text": [
      "<class 'pandas.core.frame.DataFrame'>\n",
      "RangeIndex: 1265 entries, 0 to 1264\n",
      "Data columns (total 9 columns):\n",
      " #   Column          Non-Null Count  Dtype  \n",
      "---  ------          --------------  -----  \n",
      " 0   Id              1265 non-null   object \n",
      " 1   vader_neg       1264 non-null   float64\n",
      " 2   vader_neu       1264 non-null   float64\n",
      " 3   vader_pos       1264 non-null   float64\n",
      " 4   vader_compound  1264 non-null   float64\n",
      " 5   roberta_neg     1264 non-null   float64\n",
      " 6   roberta_neu     1264 non-null   float64\n",
      " 7   roberta_pos     1264 non-null   float64\n",
      " 8   Text            1264 non-null   object \n",
      "dtypes: float64(7), object(2)\n",
      "memory usage: 89.1+ KB\n"
     ]
    }
   ],
   "source": [
    "# Reading the CSV to DF & showing DF info\n",
    "df = pd.read_csv('old_town_road.csv')\n",
    "df.info()"
   ]
  },
  {
   "cell_type": "code",
   "execution_count": 3,
   "id": "c66c8170",
   "metadata": {},
   "outputs": [
    {
     "name": "stdout",
     "output_type": "stream",
     "text": [
      "        Id  vader_neg  vader_neu  vader_pos  vader_compound  roberta_neg  \\\n",
      "0        1      0.000      1.000      0.000          0.0000     0.164698   \n",
      "1        2      0.000      0.000      1.000          0.4404     0.060793   \n",
      "2        3      0.000      1.000      0.000          0.0000     0.400678   \n",
      "3        4      0.000      1.000      0.000          0.0000     0.011754   \n",
      "4        5      0.000      0.911      0.089          0.4824     0.090882   \n",
      "...    ...        ...        ...        ...             ...          ...   \n",
      "1260  1263      0.000      1.000      0.000          0.0000     0.114758   \n",
      "1261  1264      0.000      0.000      0.000          0.0000     0.259181   \n",
      "1262  1265      0.000      1.000      0.000          0.0000     0.230317   \n",
      "1263  1266      0.000      1.000      0.000          0.0000     0.110747   \n",
      "1264  1267      0.403      0.597      0.000         -0.8442     0.870241   \n",
      "\n",
      "      roberta_neu  roberta_pos  \\\n",
      "0        0.707790     0.127512   \n",
      "1        0.329428     0.609779   \n",
      "2        0.560953     0.038368   \n",
      "3        0.117237     0.871009   \n",
      "4        0.845049     0.064069   \n",
      "...           ...          ...   \n",
      "1260     0.772328     0.112914   \n",
      "1261     0.536851     0.203968   \n",
      "1262     0.656872     0.112811   \n",
      "1263     0.804777     0.084477   \n",
      "1264     0.120508     0.009250   \n",
      "\n",
      "                                                   Text  \n",
      "0                                          old tau roud  \n",
      "1                                                  Good  \n",
      "2                                               โย่วววว  \n",
      "3                                 Dude you nailed it 🤠🔥  \n",
      "4     DENIEL JETDIEL QUE ES EL KFC Y QUE SE ES MUY D...  \n",
      "...                                                 ...  \n",
      "1260  @Ratio FN  Google translate said U said and it is  \n",
      "1261                                              y e s  \n",
      "1262                                           Comments  \n",
      "1263                                     3 years  later  \n",
      "1264  @пудель sut you ass up than y the hell or you ...  \n",
      "\n",
      "[1097 rows x 9 columns]\n"
     ]
    }
   ],
   "source": [
    "# Drop duplicates from text column\n",
    "df = df.drop_duplicates(subset = ['Text'],keep='first')\n",
    "print(df)"
   ]
  },
  {
   "cell_type": "code",
   "execution_count": 4,
   "id": "21313db8",
   "metadata": {},
   "outputs": [
    {
     "name": "stdout",
     "output_type": "stream",
     "text": [
      "        Id  vader_neg  vader_neu  vader_pos  vader_compound  roberta_neg  \\\n",
      "0        1      0.000      1.000      0.000          0.0000     0.164698   \n",
      "1        2      0.000      0.000      1.000          0.4404     0.060793   \n",
      "2        3      0.000      1.000      0.000          0.0000     0.400678   \n",
      "3        4      0.000      1.000      0.000          0.0000     0.011754   \n",
      "4        5      0.000      0.911      0.089          0.4824     0.090882   \n",
      "...    ...        ...        ...        ...             ...          ...   \n",
      "1260  1263      0.000      1.000      0.000          0.0000     0.114758   \n",
      "1261  1264      0.000      0.000      0.000          0.0000     0.259181   \n",
      "1262  1265      0.000      1.000      0.000          0.0000     0.230317   \n",
      "1263  1266      0.000      1.000      0.000          0.0000     0.110747   \n",
      "1264  1267      0.403      0.597      0.000         -0.8442     0.870241   \n",
      "\n",
      "      roberta_neu  roberta_pos  \\\n",
      "0        0.707790     0.127512   \n",
      "1        0.329428     0.609779   \n",
      "2        0.560953     0.038368   \n",
      "3        0.117237     0.871009   \n",
      "4        0.845049     0.064069   \n",
      "...           ...          ...   \n",
      "1260     0.772328     0.112914   \n",
      "1261     0.536851     0.203968   \n",
      "1262     0.656872     0.112811   \n",
      "1263     0.804777     0.084477   \n",
      "1264     0.120508     0.009250   \n",
      "\n",
      "                                                   Text  \n",
      "0                                          old tau roud  \n",
      "1                                                  Good  \n",
      "2                                               โย่วววว  \n",
      "3                                 Dude you nailed it 🤠🔥  \n",
      "4     DENIEL JETDIEL QUE ES EL KFC Y QUE SE ES MUY D...  \n",
      "...                                                 ...  \n",
      "1260  @Ratio FN  Google translate said U said and it is  \n",
      "1261                                              y e s  \n",
      "1262                                           Comments  \n",
      "1263                                     3 years  later  \n",
      "1264  @пудель sut you ass up than y the hell or you ...  \n",
      "\n",
      "[1063 rows x 9 columns]\n"
     ]
    }
   ],
   "source": [
    "# Droping rows with href URL\n",
    "df = df[df[\"Text\"].str.contains(r'href=\\S+') == False]\n",
    "df = df[df[\"Text\"].str.contains(r'https:\\S+') == False]\n",
    "print(df)"
   ]
  },
  {
   "cell_type": "code",
   "execution_count": null,
   "id": "14fe7886",
   "metadata": {},
   "outputs": [],
   "source": [
    "# Remove or replacing API symbols with originals each one by one\n",
    "# df = df.replace('&#39;', \" ' \", regex = True)\n",
    "# df = df.replace('&quot;', \" ' \", regex = True)\n",
    "# df = df.replace('&amp;', ' & ', regex = True)\n",
    "# df = df.replace('&lt;', \" < \", regex = True)\n",
    "# df = df.replace('<b>', ' ', regex = True)\n",
    "# df = df.replace('<br>', ' ', regex = True)\n",
    "# df = df.replace('</b>', ' ', regex = True)\n",
    "# df = df.replace('@', ' ', regex = True)\n",
    "#print(df)"
   ]
  },
  {
   "cell_type": "code",
   "execution_count": 5,
   "id": "acb304c9",
   "metadata": {},
   "outputs": [
    {
     "name": "stdout",
     "output_type": "stream",
     "text": [
      "        Id  vader_neg  vader_neu  vader_pos  vader_compound  roberta_neg  \\\n",
      "0        1      0.000      1.000      0.000          0.0000     0.164698   \n",
      "1        2      0.000      0.000      1.000          0.4404     0.060793   \n",
      "2        3      0.000      1.000      0.000          0.0000     0.400678   \n",
      "3        4      0.000      1.000      0.000          0.0000     0.011754   \n",
      "4        5      0.000      0.911      0.089          0.4824     0.090882   \n",
      "...    ...        ...        ...        ...             ...          ...   \n",
      "1260  1263      0.000      1.000      0.000          0.0000     0.114758   \n",
      "1261  1264      0.000      0.000      0.000          0.0000     0.259181   \n",
      "1262  1265      0.000      1.000      0.000          0.0000     0.230317   \n",
      "1263  1266      0.000      1.000      0.000          0.0000     0.110747   \n",
      "1264  1267      0.403      0.597      0.000         -0.8442     0.870241   \n",
      "\n",
      "      roberta_neu  roberta_pos  \\\n",
      "0        0.707790     0.127512   \n",
      "1        0.329428     0.609779   \n",
      "2        0.560953     0.038368   \n",
      "3        0.117237     0.871009   \n",
      "4        0.845049     0.064069   \n",
      "...           ...          ...   \n",
      "1260     0.772328     0.112914   \n",
      "1261     0.536851     0.203968   \n",
      "1262     0.656872     0.112811   \n",
      "1263     0.804777     0.084477   \n",
      "1264     0.120508     0.009250   \n",
      "\n",
      "                                                   Text  \n",
      "0                                          old tau roud  \n",
      "1                                                  Good  \n",
      "2                                               โย่วววว  \n",
      "3                                 Dude you nailed it 🤠🔥  \n",
      "4     DENIEL JETDIEL QUE ES EL KFC Y QUE SE ES MUY D...  \n",
      "...                                                 ...  \n",
      "1260   Ratio FN  Google translate said U said and it is  \n",
      "1261                                              y e s  \n",
      "1262                                           Comments  \n",
      "1263                                     3 years  later  \n",
      "1264   пудель sut you ass up than y the hell or you ...  \n",
      "\n",
      "[1063 rows x 9 columns]\n"
     ]
    }
   ],
   "source": [
    "# Remove or replacing API symbols with originals chained\n",
    "df.Text = df.Text.str.replace(\"&#39;\", \" ' \")\\\n",
    ".str.replace(\"&amp;\", \" & \")\\\n",
    ".str.replace(\"&lt;\", \" < \")\\\n",
    ".str.replace(\"&quot;\", \" ' \")\\\n",
    ".str.replace(\"<b>\", \" \")\\\n",
    ".str.replace(\"<br>\", \" \")\\\n",
    ".str.replace(\"</b>\", \" \")\\\n",
    ".str.replace(\"@\", \" \")\n",
    "print(df)"
   ]
  },
  {
   "cell_type": "code",
   "execution_count": 6,
   "id": "31527ff0",
   "metadata": {},
   "outputs": [],
   "source": [
    "# Using Google translator to translate non English Language to English\n",
    "result = []\n",
    "\n",
    "for value in df[\"Text\"]:\n",
    "    try:\n",
    "        if translator.detect(value).lang == \"en\":\n",
    "            result.append(value)\n",
    "        else: \n",
    "            result.append(translator.translate(value).text)\n",
    "    except:\n",
    "        pass"
   ]
  },
  {
   "cell_type": "code",
   "execution_count": null,
   "id": "205a2d82",
   "metadata": {},
   "outputs": [],
   "source": [
    "# Using Google translator to translate non English Language to English\n",
    "# result = []\n",
    "\n",
    "# for value in df[\"Text\"]:\n",
    "#    try:\n",
    "#        result.append(translator.translate(value).text)\n",
    "#    except:\n",
    "#        pass"
   ]
  },
  {
   "cell_type": "code",
   "execution_count": 7,
   "id": "1298ba42",
   "metadata": {},
   "outputs": [
    {
     "name": "stdout",
     "output_type": "stream",
     "text": [
      "                                                  Text\n",
      "0                                         old tau roud\n",
      "1                                                 Good\n",
      "2                                                   Yo\n",
      "3                                Dude you nailed it 🤠🔥\n",
      "4    Deniel Jetdiel that is the KFC and that it is ...\n",
      "..                                                 ...\n",
      "866   Ratio FN  Google translate said U said and it is\n",
      "867                                              y e s\n",
      "868                                           Comments\n",
      "869                                     3 years  later\n",
      "870   пудель sut you ass up than y the hell or you ...\n",
      "\n",
      "[871 rows x 1 columns]\n"
     ]
    }
   ],
   "source": [
    "# Updating the Text Column with the Translated result\n",
    "df=pd.DataFrame(result,columns=[\"Text\"])\n",
    "print(df)"
   ]
  },
  {
   "cell_type": "code",
   "execution_count": 8,
   "id": "c6c91e80",
   "metadata": {},
   "outputs": [
    {
     "name": "stdout",
     "output_type": "stream",
     "text": [
      "                                                  Text\n",
      "0                                         old tau roud\n",
      "1                                                 Good\n",
      "2                                                   Yo\n",
      "5                                                  Vdd\n",
      "6                                         Bananal Zoel\n",
      "..                                                 ...\n",
      "865                                              Y e s\n",
      "866   Ratio FN  Google translate said U said and it is\n",
      "867                                              y e s\n",
      "868                                           Comments\n",
      "869                                     3 years  later\n",
      "\n",
      "[677 rows x 1 columns]\n"
     ]
    }
   ],
   "source": [
    "# Droping rows with non English words\n",
    "df=df[df.Text.map(lambda x: x.isascii())]\n",
    "print(df)"
   ]
  },
  {
   "cell_type": "code",
   "execution_count": 9,
   "id": "08417440",
   "metadata": {},
   "outputs": [],
   "source": [
    "# Save DF into CSV file\n",
    "df.to_csv(\"old_town_road_clean.csv\")"
   ]
  },
  {
   "cell_type": "code",
   "execution_count": 10,
   "id": "c02fb387",
   "metadata": {},
   "outputs": [],
   "source": [
    "# Save DF into JSON file\n",
    "df.to_json(\"old_town_road_clean.json\")"
   ]
  },
  {
   "cell_type": "code",
   "execution_count": null,
   "id": "14add92f",
   "metadata": {},
   "outputs": [],
   "source": []
  },
  {
   "cell_type": "code",
   "execution_count": null,
   "id": "c08a368a",
   "metadata": {},
   "outputs": [],
   "source": [
    "translator.translate('안녕하세요.').text"
   ]
  },
  {
   "cell_type": "code",
   "execution_count": null,
   "id": "5a9f90e9",
   "metadata": {},
   "outputs": [],
   "source": [
    "sentence = \"Tanzania ni nchi inayoongoza kwa utalii barani afrika\"\n",
    "translate_text = translator.translate(sentence).text\n",
    "\n",
    "print(translate_text)"
   ]
  },
  {
   "cell_type": "code",
   "execution_count": null,
   "id": "2d6a2250",
   "metadata": {},
   "outputs": [],
   "source": [
    "#detection = translator.detect(\"नमस्ते दुनिया\")\n",
    "#print(\"Language code:\", detection.lang)"
   ]
  },
  {
   "cell_type": "code",
   "execution_count": null,
   "id": "2be1ce3a",
   "metadata": {},
   "outputs": [],
   "source": [
    "\n",
    "#L = [\"Geeksforgeeks is a computer science portal for geeks\",\n",
    "#    \"Geeksforgeeks - это компьютерный портал для гиков\",\n",
    "#    \"Geeksforgeeks es un portal informático para geeks\",\n",
    "#    \"Geeksforgeeks是面向极客的计算机科学门户\",\n",
    "#    \"Geeksforgeeks geeks के लिए एक कंप्यूटर विज्ञान पोर्टल है\",\n",
    "#    \"Geeksforgeeksは、ギーク向けのコンピューターサイエンスポータルです。\",\n",
    "#    ]\n",
    " \n",
    "#for i in L:\n",
    "     \n",
    "#    # Language detection\n",
    "#    print(langid.classify(i))"
   ]
  },
  {
   "cell_type": "code",
   "execution_count": null,
   "id": "fa459189",
   "metadata": {},
   "outputs": [],
   "source": []
  }
 ],
 "metadata": {
  "kernelspec": {
   "display_name": "PythonData2",
   "language": "python",
   "name": "pythondata2"
  },
  "language_info": {
   "codemirror_mode": {
    "name": "ipython",
    "version": 3
   },
   "file_extension": ".py",
   "mimetype": "text/x-python",
   "name": "python",
   "nbconvert_exporter": "python",
   "pygments_lexer": "ipython3",
   "version": "3.11.4"
  }
 },
 "nbformat": 4,
 "nbformat_minor": 5
}
