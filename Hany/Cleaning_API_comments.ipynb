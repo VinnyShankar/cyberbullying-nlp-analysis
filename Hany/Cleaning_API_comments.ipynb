{
 "cells": [
  {
   "cell_type": "markdown",
   "id": "d8f309a1",
   "metadata": {},
   "source": [
    "# Installations:\n",
    "pip install googletrans==4.0.0-rc1\n",
    "\n",
    "pip install google_trans_new\n",
    "\n",
    "pip install langdetect\n",
    "\n",
    "pip install langid"
   ]
  },
  {
   "cell_type": "code",
   "execution_count": 1,
   "id": "fbf45d10",
   "metadata": {},
   "outputs": [
    {
     "ename": "ModuleNotFoundError",
     "evalue": "No module named 'googletrans'",
     "output_type": "error",
     "traceback": [
      "\u001b[0;31m---------------------------------------------------------------------------\u001b[0m",
      "\u001b[0;31mModuleNotFoundError\u001b[0m                       Traceback (most recent call last)",
      "\u001b[0;32m/var/folders/t9/jcphb3hs6kq4b38szf8vt2ch0000gn/T/ipykernel_3216/3770388401.py\u001b[0m in \u001b[0;36m<module>\u001b[0;34m\u001b[0m\n\u001b[1;32m      1\u001b[0m \u001b[0;32mimport\u001b[0m \u001b[0mcsv\u001b[0m\u001b[0;34m\u001b[0m\u001b[0;34m\u001b[0m\u001b[0m\n\u001b[1;32m      2\u001b[0m \u001b[0;32mimport\u001b[0m \u001b[0mpandas\u001b[0m \u001b[0;32mas\u001b[0m \u001b[0mpd\u001b[0m\u001b[0;34m\u001b[0m\u001b[0;34m\u001b[0m\u001b[0m\n\u001b[0;32m----> 3\u001b[0;31m \u001b[0;32mfrom\u001b[0m \u001b[0mgoogletrans\u001b[0m \u001b[0;32mimport\u001b[0m \u001b[0mTranslator\u001b[0m\u001b[0;34m,\u001b[0m \u001b[0mconstants\u001b[0m\u001b[0;34m\u001b[0m\u001b[0;34m\u001b[0m\u001b[0m\n\u001b[0m\u001b[1;32m      4\u001b[0m \u001b[0;31m# init the Google API translator\u001b[0m\u001b[0;34m\u001b[0m\u001b[0;34m\u001b[0m\u001b[0;34m\u001b[0m\u001b[0m\n\u001b[1;32m      5\u001b[0m \u001b[0mtranslator\u001b[0m \u001b[0;34m=\u001b[0m \u001b[0mTranslator\u001b[0m\u001b[0;34m(\u001b[0m\u001b[0;34m)\u001b[0m\u001b[0;34m\u001b[0m\u001b[0;34m\u001b[0m\u001b[0m\n",
      "\u001b[0;31mModuleNotFoundError\u001b[0m: No module named 'googletrans'"
     ]
    }
   ],
   "source": [
    "import csv\n",
    "import pandas as pd\n",
    "from googletrans import Translator, constants\n",
    "# init the Google API translator\n",
    "translator = Translator()\n",
    "\n",
    "# from langdetect import detect\n",
    "# import langid\n",
    "# from google_trans_new import google_translator"
   ]
  },
  {
   "cell_type": "code",
   "execution_count": null,
   "id": "12cb6387",
   "metadata": {},
   "outputs": [],
   "source": [
    "# Reading the CSV to DF & showing DF info\n",
    "df = pd.read_csv('old_town_road.csv')\n",
    "df.info()"
   ]
  },
  {
   "cell_type": "code",
   "execution_count": null,
   "id": "c66c8170",
   "metadata": {},
   "outputs": [],
   "source": [
    "# Drop duplicates from text column\n",
    "df = df.drop_duplicates(subset = ['Text'],keep='first')\n",
    "print(df)"
   ]
  },
  {
   "cell_type": "code",
   "execution_count": null,
   "id": "21313db8",
   "metadata": {},
   "outputs": [],
   "source": [
    "# Droping rows with href URL\n",
    "df = df[df[\"Text\"].str.contains(r'href=\\S+') == False]\n",
    "df = df[df[\"Text\"].str.contains(r'https:\\S+') == False]\n",
    "print(df)"
   ]
  },
  {
   "cell_type": "code",
   "execution_count": null,
   "id": "acb304c9",
   "metadata": {},
   "outputs": [],
   "source": [
    "# Remove or replacing API symbols with originals chained\n",
    "df.Text = df.Text.str.replace(\"&#39;\", \" ' \")\\\n",
    ".str.replace(\"&amp;\", \" & \")\\\n",
    ".str.replace(\"&lt;\", \" < \")\\\n",
    ".str.replace(\"&quot;\", \" ' \")\\\n",
    ".str.replace(\"<b>\", \" \")\\\n",
    ".str.replace(\"<br>\", \" \")\\\n",
    ".str.replace(\"</b>\", \" \")\\\n",
    ".str.replace(\"@\", \" \")\n",
    "print(df)"
   ]
  },
  {
   "cell_type": "code",
   "execution_count": null,
   "id": "a88d6614",
   "metadata": {},
   "outputs": [],
   "source": [
    "# Using Google translator to translate non English Language to English\n",
    "result = []\n",
    "\n",
    "for value in df[\"Text\"]:\n",
    "    try:\n",
    "        result.append(translator.translate(value).text)\n",
    "    except:\n",
    "        pass"
   ]
  },
  {
   "cell_type": "code",
   "execution_count": null,
   "id": "fda85829",
   "metadata": {},
   "outputs": [],
   "source": [
    "# Updating the Text Column with the Translated result\n",
    "df=pd.DataFrame(result,columns=[\"Text\"])\n",
    "print(df)"
   ]
  },
  {
   "cell_type": "code",
   "execution_count": null,
   "id": "c6c91e80",
   "metadata": {},
   "outputs": [],
   "source": [
    "# Droping rows with non English words\n",
    "# df=df[df.Text.map(lambda x: x.isascii())]\n",
    "# print(df)"
   ]
  },
  {
   "cell_type": "code",
   "execution_count": null,
   "id": "cdafcec1",
   "metadata": {},
   "outputs": [],
   "source": []
  },
  {
   "cell_type": "code",
   "execution_count": null,
   "id": "08417440",
   "metadata": {},
   "outputs": [],
   "source": [
    "# Save DF into CSV file\n",
    "df.to_csv(\"old_town_road_clean.csv\")"
   ]
  },
  {
   "cell_type": "code",
   "execution_count": null,
   "id": "c02fb387",
   "metadata": {},
   "outputs": [],
   "source": [
    "# Save DF into JSON file\n",
    "df.to_json(\"old_town_road_clean.json\")"
   ]
  },
  {
   "cell_type": "code",
   "execution_count": null,
   "id": "2948f7ab",
   "metadata": {},
   "outputs": [],
   "source": []
  },
  {
   "cell_type": "markdown",
   "id": "b04ef4b6",
   "metadata": {},
   "source": [
    "# FOR TESTING PURPOSE ONLY:"
   ]
  },
  {
   "cell_type": "code",
   "execution_count": null,
   "id": "80f262d0",
   "metadata": {},
   "outputs": [],
   "source": [
    "# Using Google translator to translate non English Language to English\n",
    "# result = []\n",
    "\n",
    "# for value in df[\"Text\"]:\n",
    "#    try:\n",
    "#        if translator.detect(value).lang == \"en\":\n",
    "#            result.append(value)\n",
    "#        else: \n",
    "#            result.append(translator.translate(value).text)\n",
    "#    except:\n",
    "#        pass"
   ]
  },
  {
   "cell_type": "code",
   "execution_count": null,
   "id": "14fe7886",
   "metadata": {},
   "outputs": [],
   "source": [
    "# Remove or replacing API symbols with originals each one by one\n",
    "# df = df.replace('&#39;', \" ' \", regex = True)\n",
    "# df = df.replace('&quot;', \" ' \", regex = True)\n",
    "# df = df.replace('&amp;', ' & ', regex = True)\n",
    "# df = df.replace('&lt;', \" < \", regex = True)\n",
    "# df = df.replace('<b>', ' ', regex = True)\n",
    "# df = df.replace('<br>', ' ', regex = True)\n",
    "# df = df.replace('</b>', ' ', regex = True)\n",
    "# df = df.replace('@', ' ', regex = True)\n",
    "#print(df)"
   ]
  },
  {
   "cell_type": "code",
   "execution_count": null,
   "id": "14add92f",
   "metadata": {},
   "outputs": [],
   "source": []
  },
  {
   "cell_type": "code",
   "execution_count": null,
   "id": "c110b08e",
   "metadata": {},
   "outputs": [],
   "source": [
    "# translator.translate('안녕하세요.').text"
   ]
  },
  {
   "cell_type": "code",
   "execution_count": null,
   "id": "5a9f90e9",
   "metadata": {},
   "outputs": [],
   "source": [
    "# sentence = \"Tanzania ni nchi inayoongoza kwa utalii barani afrika\"\n",
    "# translate_text = translator.translate(sentence).text\n",
    "\n",
    "# print(translate_text)"
   ]
  },
  {
   "cell_type": "code",
   "execution_count": null,
   "id": "2d6a2250",
   "metadata": {},
   "outputs": [],
   "source": [
    "# detection = translator.detect(\"नमस्ते दुनिया\")\n",
    "# print(\"Language code:\", detection.lang)"
   ]
  },
  {
   "cell_type": "code",
   "execution_count": null,
   "id": "2be1ce3a",
   "metadata": {},
   "outputs": [],
   "source": [
    "\n",
    "#L = [\"Geeksforgeeks is a computer science portal for geeks\",\n",
    "#    \"Geeksforgeeks - это компьютерный портал для гиков\",\n",
    "#    \"Geeksforgeeks es un portal informático para geeks\",\n",
    "#    \"Geeksforgeeks是面向极客的计算机科学门户\",\n",
    "#    \"Geeksforgeeks geeks के लिए एक कंप्यूटर विज्ञान पोर्टल है\",\n",
    "#    \"Geeksforgeeksは、ギーク向けのコンピューターサイエンスポータルです。\",\n",
    "#    ]\n",
    " \n",
    "#for i in L:\n",
    "     \n",
    "#    # Language detection\n",
    "#    print(langid.classify(i))"
   ]
  },
  {
   "cell_type": "code",
   "execution_count": null,
   "id": "fa459189",
   "metadata": {},
   "outputs": [],
   "source": []
  }
 ],
 "metadata": {
  "kernelspec": {
   "display_name": "PythonData",
   "language": "python",
   "name": "pythondata"
  },
  "language_info": {
   "codemirror_mode": {
    "name": "ipython",
    "version": 3
   },
   "file_extension": ".py",
   "mimetype": "text/x-python",
   "name": "python",
   "nbconvert_exporter": "python",
   "pygments_lexer": "ipython3",
   "version": "3.7.7"
  }
 },
 "nbformat": 4,
 "nbformat_minor": 5
}
