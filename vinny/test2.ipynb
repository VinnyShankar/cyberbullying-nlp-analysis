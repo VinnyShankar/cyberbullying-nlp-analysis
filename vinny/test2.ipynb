{
 "cells": [
  {
   "cell_type": "code",
   "execution_count": 1,
   "metadata": {},
   "outputs": [
    {
     "data": {
      "text/html": [
       "<div>\n",
       "<style scoped>\n",
       "    .dataframe tbody tr th:only-of-type {\n",
       "        vertical-align: middle;\n",
       "    }\n",
       "\n",
       "    .dataframe tbody tr th {\n",
       "        vertical-align: top;\n",
       "    }\n",
       "\n",
       "    .dataframe thead th {\n",
       "        text-align: right;\n",
       "    }\n",
       "</style>\n",
       "<table border=\"1\" class=\"dataframe\">\n",
       "  <thead>\n",
       "    <tr style=\"text-align: right;\">\n",
       "      <th></th>\n",
       "      <th>category</th>\n",
       "      <th>channel</th>\n",
       "      <th>video_url</th>\n",
       "      <th>video_id</th>\n",
       "      <th>comments</th>\n",
       "      <th>channel_size</th>\n",
       "      <th>identity</th>\n",
       "      <th>scores</th>\n",
       "    </tr>\n",
       "  </thead>\n",
       "  <tbody>\n",
       "    <tr>\n",
       "      <th>0</th>\n",
       "      <td>Automobiles</td>\n",
       "      <td>https://www.youtube.com/@autofanaticcars</td>\n",
       "      <td>https://www.youtube.com/watch?v=Wqcy9do6YO0</td>\n",
       "      <td>Wqcy9do6YO0</td>\n",
       "      <td>[Wheel Cleaner is In production and pre-order ...</td>\n",
       "      <td>0</td>\n",
       "      <td>1</td>\n",
       "      <td>[2, 1, 2, 1, 1, 2, 1, 1, 1, 2, 0, 2, 0, 1, 1, ...</td>\n",
       "    </tr>\n",
       "    <tr>\n",
       "      <th>1</th>\n",
       "      <td>Automobiles</td>\n",
       "      <td>https://www.youtube.com/@autofanaticcars</td>\n",
       "      <td>https://www.youtube.com/watch?v=NyNF0MfQN8s</td>\n",
       "      <td>NyNF0MfQN8s</td>\n",
       "      <td>[I know that on my 1122TST it also matters wha...</td>\n",
       "      <td>0</td>\n",
       "      <td>1</td>\n",
       "      <td>[1, 1, 0, 1, 0, 1, 0, 1, 1, 1, 2, 1, 0, 1, 1, ...</td>\n",
       "    </tr>\n",
       "    <tr>\n",
       "      <th>2</th>\n",
       "      <td>Automobiles</td>\n",
       "      <td>https://www.youtube.com/@autofanaticcars</td>\n",
       "      <td>https://www.youtube.com/watch?v=x3vzurNYbyM</td>\n",
       "      <td>x3vzurNYbyM</td>\n",
       "      <td>[Can you put it on top of PPF? Thanks, very ha...</td>\n",
       "      <td>0</td>\n",
       "      <td>1</td>\n",
       "      <td>[1, 0, 1, 2, 0, 0, 1, 1, 1, 2, 2, 1, 2, 0, 1, ...</td>\n",
       "    </tr>\n",
       "    <tr>\n",
       "      <th>3</th>\n",
       "      <td>Automobiles</td>\n",
       "      <td>https://www.youtube.com/@AutoAmateur</td>\n",
       "      <td>https://www.youtube.com/watch?v=qysq4YFOwPw</td>\n",
       "      <td>qysq4YFOwPw</td>\n",
       "      <td>[Hey australian Elon Musk can you show a littl...</td>\n",
       "      <td>0</td>\n",
       "      <td>1</td>\n",
       "      <td>[1, 2, 1, 2, 2, 0, 2, 0, 1, 0, 0, 2, 1, 1, 2, ...</td>\n",
       "    </tr>\n",
       "    <tr>\n",
       "      <th>4</th>\n",
       "      <td>Automobiles</td>\n",
       "      <td>https://www.youtube.com/@AutoAmateur</td>\n",
       "      <td>https://www.youtube.com/watch?v=B8zgCdINaAs</td>\n",
       "      <td>B8zgCdINaAs</td>\n",
       "      <td>[Excellent tutorial video. Congrats! Maybe two...</td>\n",
       "      <td>0</td>\n",
       "      <td>1</td>\n",
       "      <td></td>\n",
       "    </tr>\n",
       "  </tbody>\n",
       "</table>\n",
       "</div>"
      ],
      "text/plain": [
       "      category                                   channel  \\\n",
       "0  Automobiles  https://www.youtube.com/@autofanaticcars   \n",
       "1  Automobiles  https://www.youtube.com/@autofanaticcars   \n",
       "2  Automobiles  https://www.youtube.com/@autofanaticcars   \n",
       "3  Automobiles      https://www.youtube.com/@AutoAmateur   \n",
       "4  Automobiles      https://www.youtube.com/@AutoAmateur   \n",
       "\n",
       "                                     video_url     video_id  \\\n",
       "0  https://www.youtube.com/watch?v=Wqcy9do6YO0  Wqcy9do6YO0   \n",
       "1  https://www.youtube.com/watch?v=NyNF0MfQN8s  NyNF0MfQN8s   \n",
       "2  https://www.youtube.com/watch?v=x3vzurNYbyM  x3vzurNYbyM   \n",
       "3  https://www.youtube.com/watch?v=qysq4YFOwPw  qysq4YFOwPw   \n",
       "4  https://www.youtube.com/watch?v=B8zgCdINaAs  B8zgCdINaAs   \n",
       "\n",
       "                                            comments  channel_size  identity  \\\n",
       "0  [Wheel Cleaner is In production and pre-order ...             0         1   \n",
       "1  [I know that on my 1122TST it also matters wha...             0         1   \n",
       "2  [Can you put it on top of PPF? Thanks, very ha...             0         1   \n",
       "3  [Hey australian Elon Musk can you show a littl...             0         1   \n",
       "4  [Excellent tutorial video. Congrats! Maybe two...             0         1   \n",
       "\n",
       "                                              scores  \n",
       "0  [2, 1, 2, 1, 1, 2, 1, 1, 1, 2, 0, 2, 0, 1, 1, ...  \n",
       "1  [1, 1, 0, 1, 0, 1, 0, 1, 1, 1, 2, 1, 0, 1, 1, ...  \n",
       "2  [1, 0, 1, 2, 0, 0, 1, 1, 1, 2, 2, 1, 2, 0, 1, ...  \n",
       "3  [1, 2, 1, 2, 2, 0, 2, 0, 1, 0, 0, 2, 1, 1, 2, ...  \n",
       "4                                                     "
      ]
     },
     "execution_count": 1,
     "metadata": {},
     "output_type": "execute_result"
    }
   ],
   "source": [
    "import pandas as pd\n",
    "df = pd.read_json(\"this_took_280_minutes.json\")\n",
    "df.head()"
   ]
  },
  {
   "cell_type": "code",
   "execution_count": 2,
   "metadata": {},
   "outputs": [
    {
     "name": "stdout",
     "output_type": "stream",
     "text": [
      "<class 'pandas.core.frame.DataFrame'>\n",
      "Index: 317 entries, 0 to 316\n",
      "Data columns (total 8 columns):\n",
      " #   Column        Non-Null Count  Dtype \n",
      "---  ------        --------------  ----- \n",
      " 0   category      317 non-null    object\n",
      " 1   channel       317 non-null    object\n",
      " 2   video_url     317 non-null    object\n",
      " 3   video_id      317 non-null    object\n",
      " 4   comments      317 non-null    object\n",
      " 5   channel_size  317 non-null    int64 \n",
      " 6   identity      317 non-null    int64 \n",
      " 7   scores        317 non-null    object\n",
      "dtypes: int64(2), object(6)\n",
      "memory usage: 22.3+ KB\n"
     ]
    }
   ],
   "source": [
    "df.info()"
   ]
  },
  {
   "cell_type": "code",
   "execution_count": 3,
   "metadata": {},
   "outputs": [
    {
     "data": {
      "text/plain": [
       "155"
      ]
     },
     "execution_count": 3,
     "metadata": {},
     "output_type": "execute_result"
    }
   ],
   "source": [
    "counter = 0\n",
    "for x in range(0,len(df)):\n",
    "    if len(df[\"scores\"][x]) == 0:\n",
    "        counter += 1\n",
    "counter"
   ]
  },
  {
   "cell_type": "code",
   "execution_count": 4,
   "metadata": {},
   "outputs": [],
   "source": [
    "for x in range(0,len(df)):\n",
    "    if len(df[\"scores\"][x]) == 0:\n",
    "        df.drop(x,inplace=True)"
   ]
  },
  {
   "cell_type": "code",
   "execution_count": 5,
   "metadata": {},
   "outputs": [],
   "source": [
    "df.reset_index(drop=True,inplace=True)"
   ]
  },
  {
   "cell_type": "code",
   "execution_count": 6,
   "metadata": {},
   "outputs": [
    {
     "data": {
      "text/plain": [
       "0"
      ]
     },
     "execution_count": 6,
     "metadata": {},
     "output_type": "execute_result"
    }
   ],
   "source": [
    "counter = 0\n",
    "for x in range(0,len(df)):\n",
    "    if len(df[\"scores\"][x]) == 0:\n",
    "        counter += 1\n",
    "counter"
   ]
  },
  {
   "cell_type": "code",
   "execution_count": 7,
   "metadata": {},
   "outputs": [
    {
     "name": "stdout",
     "output_type": "stream",
     "text": [
      "<class 'pandas.core.frame.DataFrame'>\n",
      "RangeIndex: 162 entries, 0 to 161\n",
      "Data columns (total 8 columns):\n",
      " #   Column        Non-Null Count  Dtype \n",
      "---  ------        --------------  ----- \n",
      " 0   category      162 non-null    object\n",
      " 1   channel       162 non-null    object\n",
      " 2   video_url     162 non-null    object\n",
      " 3   video_id      162 non-null    object\n",
      " 4   comments      162 non-null    object\n",
      " 5   channel_size  162 non-null    int64 \n",
      " 6   identity      162 non-null    int64 \n",
      " 7   scores        162 non-null    object\n",
      "dtypes: int64(2), object(6)\n",
      "memory usage: 10.3+ KB\n"
     ]
    }
   ],
   "source": [
    "df.info()"
   ]
  },
  {
   "cell_type": "code",
   "execution_count": 8,
   "metadata": {},
   "outputs": [],
   "source": [
    "comment_list = df[\"comments\"].tolist()"
   ]
  },
  {
   "cell_type": "code",
   "execution_count": 9,
   "metadata": {},
   "outputs": [
    {
     "data": {
      "text/plain": [
       "110693"
      ]
     },
     "execution_count": 9,
     "metadata": {},
     "output_type": "execute_result"
    }
   ],
   "source": [
    "count = 0\n",
    "for x in range(0,len(comment_list)):\n",
    "    count += len(comment_list[x])\n",
    "\n",
    "count"
   ]
  }
 ],
 "metadata": {
  "kernelspec": {
   "display_name": "p4",
   "language": "python",
   "name": "python3"
  },
  "language_info": {
   "codemirror_mode": {
    "name": "ipython",
    "version": 3
   },
   "file_extension": ".py",
   "mimetype": "text/x-python",
   "name": "python",
   "nbconvert_exporter": "python",
   "pygments_lexer": "ipython3",
   "version": "3.11.4"
  },
  "orig_nbformat": 4
 },
 "nbformat": 4,
 "nbformat_minor": 2
}
