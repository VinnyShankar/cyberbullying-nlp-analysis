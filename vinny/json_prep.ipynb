{
 "cells": [
  {
   "cell_type": "code",
   "execution_count": 1,
   "metadata": {},
   "outputs": [
    {
     "name": "stdout",
     "output_type": "stream",
     "text": [
      "<class 'pandas.core.frame.DataFrame'>\n",
      "Index: 189489 entries, 0 to 189488\n",
      "Data columns (total 10 columns):\n",
      " #   Column          Non-Null Count   Dtype \n",
      "---  ------          --------------   ----- \n",
      " 0   comment         189489 non-null  object\n",
      " 1   category        189489 non-null  object\n",
      " 2   channel         189489 non-null  object\n",
      " 3   video_url       189489 non-null  object\n",
      " 4   video_id        189489 non-null  object\n",
      " 5   channel_size    189489 non-null  object\n",
      " 6   identity        189489 non-null  object\n",
      " 7   expanded_text   189489 non-null  object\n",
      " 8   processed_text  189489 non-null  object\n",
      " 9   score           189489 non-null  int64 \n",
      "dtypes: int64(1), object(9)\n",
      "memory usage: 15.9+ MB\n"
     ]
    }
   ],
   "source": [
    "import pandas as pd\n",
    "df = pd.read_json(\"final_data_for_machine_learning.json\")\n",
    "df.info()"
   ]
  },
  {
   "cell_type": "code",
   "execution_count": 2,
   "metadata": {},
   "outputs": [
    {
     "name": "stdout",
     "output_type": "stream",
     "text": [
      "<class 'pandas.core.frame.DataFrame'>\n",
      "RangeIndex: 189489 entries, 0 to 189488\n",
      "Data columns (total 10 columns):\n",
      " #   Column          Non-Null Count   Dtype \n",
      "---  ------          --------------   ----- \n",
      " 0   comment         189489 non-null  object\n",
      " 1   category        189489 non-null  object\n",
      " 2   channel         189489 non-null  object\n",
      " 3   video_url       189489 non-null  object\n",
      " 4   video_id        189489 non-null  object\n",
      " 5   channel_size    189489 non-null  object\n",
      " 6   identity        189489 non-null  object\n",
      " 7   expanded_text   189489 non-null  object\n",
      " 8   processed_text  189489 non-null  object\n",
      " 9   score           189489 non-null  int64 \n",
      "dtypes: int64(1), object(9)\n",
      "memory usage: 14.5+ MB\n"
     ]
    }
   ],
   "source": [
    "df.to_json(\"final_final.json\",indent=1,orient=\"records\")\n",
    "df2 = pd.read_json(\"final_final.json\")\n",
    "df2.info()"
   ]
  },
  {
   "cell_type": "code",
   "execution_count": null,
   "metadata": {},
   "outputs": [],
   "source": []
  }
 ],
 "metadata": {
  "kernelspec": {
   "display_name": "p4",
   "language": "python",
   "name": "python3"
  },
  "language_info": {
   "codemirror_mode": {
    "name": "ipython",
    "version": 3
   },
   "file_extension": ".py",
   "mimetype": "text/x-python",
   "name": "python",
   "nbconvert_exporter": "python",
   "pygments_lexer": "ipython3",
   "version": "3.11.4"
  },
  "orig_nbformat": 4
 },
 "nbformat": 4,
 "nbformat_minor": 2
}
