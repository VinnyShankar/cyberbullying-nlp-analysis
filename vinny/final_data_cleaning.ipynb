{
 "cells": [
  {
   "cell_type": "markdown",
   "metadata": {},
   "source": [
    "# Cleaning roberta-labeled comments from 3-hour labeling run"
   ]
  },
  {
   "cell_type": "code",
   "execution_count": 1,
   "metadata": {},
   "outputs": [],
   "source": [
    "# Imports\n",
    "import pandas as pd"
   ]
  },
  {
   "cell_type": "code",
   "execution_count": 2,
   "metadata": {},
   "outputs": [],
   "source": [
    "# Read data into pandas dataframe\n",
    "df = pd.read_json(\"280_min_stretch_spam_dropped_roberta.json\")"
   ]
  },
  {
   "cell_type": "code",
   "execution_count": 3,
   "metadata": {},
   "outputs": [
    {
     "data": {
      "text/plain": [
       "189762"
      ]
     },
     "execution_count": 3,
     "metadata": {},
     "output_type": "execute_result"
    }
   ],
   "source": [
    "# Check the number of rows in the dataframe\n",
    "len(df)"
   ]
  },
  {
   "cell_type": "code",
   "execution_count": 4,
   "metadata": {},
   "outputs": [
    {
     "data": {
      "text/plain": [
       "array([ 1.,  2.,  0., nan])"
      ]
     },
     "execution_count": 4,
     "metadata": {},
     "output_type": "execute_result"
    }
   ],
   "source": [
    "# Check the unique values in the \"score\" column\n",
    "df[\"score\"].unique()"
   ]
  },
  {
   "cell_type": "code",
   "execution_count": 5,
   "metadata": {},
   "outputs": [],
   "source": [
    "# Only keep the rows where \"score\" column is valid\n",
    "df = df[df[\"score\"].notnull()]"
   ]
  },
  {
   "cell_type": "code",
   "execution_count": 6,
   "metadata": {},
   "outputs": [
    {
     "data": {
      "text/plain": [
       "array([1., 2., 0.])"
      ]
     },
     "execution_count": 6,
     "metadata": {},
     "output_type": "execute_result"
    }
   ],
   "source": [
    "# Check the unique values in the \"score\" column\n",
    "df[\"score\"].unique()"
   ]
  },
  {
   "cell_type": "code",
   "execution_count": 7,
   "metadata": {},
   "outputs": [
    {
     "data": {
      "text/plain": [
       "189489"
      ]
     },
     "execution_count": 7,
     "metadata": {},
     "output_type": "execute_result"
    }
   ],
   "source": [
    "# Check the number of rows in the dataframe\n",
    "len(df)"
   ]
  },
  {
   "cell_type": "code",
   "execution_count": 8,
   "metadata": {},
   "outputs": [],
   "source": [
    "# Drop the \"results\" column\n",
    "df = df.drop(columns=[\"results\"])"
   ]
  },
  {
   "cell_type": "code",
   "execution_count": 9,
   "metadata": {},
   "outputs": [
    {
     "name": "stdout",
     "output_type": "stream",
     "text": [
      "<class 'pandas.core.frame.DataFrame'>\n",
      "Index: 189489 entries, 0 to 189761\n",
      "Data columns (total 10 columns):\n",
      " #   Column          Non-Null Count   Dtype  \n",
      "---  ------          --------------   -----  \n",
      " 0   comment         189489 non-null  object \n",
      " 1   category        189489 non-null  object \n",
      " 2   channel         189489 non-null  object \n",
      " 3   video_url       189489 non-null  object \n",
      " 4   video_id        189489 non-null  object \n",
      " 5   channel_size    189489 non-null  int64  \n",
      " 6   identity        189489 non-null  int64  \n",
      " 7   expanded_text   189489 non-null  object \n",
      " 8   processed_text  189489 non-null  object \n",
      " 9   score           189489 non-null  float64\n",
      "dtypes: float64(1), int64(2), object(7)\n",
      "memory usage: 15.9+ MB\n"
     ]
    }
   ],
   "source": [
    "# Check the data types\n",
    "df.info()"
   ]
  },
  {
   "cell_type": "code",
   "execution_count": 10,
   "metadata": {},
   "outputs": [
    {
     "name": "stdout",
     "output_type": "stream",
     "text": [
      "<class 'pandas.core.frame.DataFrame'>\n",
      "Index: 189489 entries, 0 to 189761\n",
      "Data columns (total 10 columns):\n",
      " #   Column          Non-Null Count   Dtype \n",
      "---  ------          --------------   ----- \n",
      " 0   comment         189489 non-null  object\n",
      " 1   category        189489 non-null  object\n",
      " 2   channel         189489 non-null  object\n",
      " 3   video_url       189489 non-null  object\n",
      " 4   video_id        189489 non-null  object\n",
      " 5   channel_size    189489 non-null  int64 \n",
      " 6   identity        189489 non-null  int64 \n",
      " 7   expanded_text   189489 non-null  object\n",
      " 8   processed_text  189489 non-null  object\n",
      " 9   score           189489 non-null  int64 \n",
      "dtypes: int64(3), object(7)\n",
      "memory usage: 15.9+ MB\n"
     ]
    }
   ],
   "source": [
    "# Cast the \"score\" column as integers\n",
    "df = df.astype({\"score\":\"int64\"})\n",
    "\n",
    "# Check the data types\n",
    "df.info()"
   ]
  },
  {
   "cell_type": "code",
   "execution_count": 11,
   "metadata": {},
   "outputs": [
    {
     "data": {
      "text/plain": [
       "array([0, 1])"
      ]
     },
     "execution_count": 11,
     "metadata": {},
     "output_type": "execute_result"
    }
   ],
   "source": [
    "# Check the unique values in the \"channel_size\" column\n",
    "df[\"channel_size\"].unique()"
   ]
  },
  {
   "cell_type": "code",
   "execution_count": 12,
   "metadata": {},
   "outputs": [],
   "source": [
    "# Reset the dataframe's index\n",
    "df.reset_index(drop=True,inplace=True)"
   ]
  },
  {
   "cell_type": "code",
   "execution_count": 13,
   "metadata": {},
   "outputs": [
    {
     "name": "stderr",
     "output_type": "stream",
     "text": [
      "/var/folders/d4/k_1cw48975s3slrc9qk3wnwc0000gn/T/ipykernel_52806/2935680959.py:6: SettingWithCopyWarning: \n",
      "A value is trying to be set on a copy of a slice from a DataFrame\n",
      "\n",
      "See the caveats in the documentation: https://pandas.pydata.org/pandas-docs/stable/user_guide/indexing.html#returning-a-view-versus-a-copy\n",
      "  df[\"channel_size\"][x] = \"small\"\n"
     ]
    }
   ],
   "source": [
    "# Replace values in the \"channel_size\" column\n",
    "for x in range(0,len(df)):\n",
    "    if df[\"channel_size\"][x] == 1:\n",
    "        df[\"channel_size\"][x] = \"large\"\n",
    "    else:\n",
    "        df[\"channel_size\"][x] = \"small\""
   ]
  },
  {
   "cell_type": "code",
   "execution_count": 14,
   "metadata": {},
   "outputs": [
    {
     "data": {
      "text/plain": [
       "array(['small', 'large'], dtype=object)"
      ]
     },
     "execution_count": 14,
     "metadata": {},
     "output_type": "execute_result"
    }
   ],
   "source": [
    "# Check the unique values in the \"channel_size\" column\n",
    "df[\"channel_size\"].unique()"
   ]
  },
  {
   "cell_type": "code",
   "execution_count": 15,
   "metadata": {},
   "outputs": [
    {
     "data": {
      "text/plain": [
       "array([1, 0])"
      ]
     },
     "execution_count": 15,
     "metadata": {},
     "output_type": "execute_result"
    }
   ],
   "source": [
    "# Check the unique values in the \"identity\" column\n",
    "df[\"identity\"].unique()"
   ]
  },
  {
   "cell_type": "code",
   "execution_count": 16,
   "metadata": {},
   "outputs": [
    {
     "name": "stderr",
     "output_type": "stream",
     "text": [
      "/var/folders/d4/k_1cw48975s3slrc9qk3wnwc0000gn/T/ipykernel_52806/1882547567.py:4: SettingWithCopyWarning: \n",
      "A value is trying to be set on a copy of a slice from a DataFrame\n",
      "\n",
      "See the caveats in the documentation: https://pandas.pydata.org/pandas-docs/stable/user_guide/indexing.html#returning-a-view-versus-a-copy\n",
      "  df[\"identity\"][x] = \"unknown\"\n"
     ]
    }
   ],
   "source": [
    "# Replace values in the \"identity\" column\n",
    "for x in range(0,len(df)):\n",
    "    if df[\"identity\"][x] == 1:\n",
    "        df[\"identity\"][x] = \"unknown\"\n",
    "    else:\n",
    "        df[\"identity\"][x] = \"lgbt\""
   ]
  },
  {
   "cell_type": "code",
   "execution_count": 17,
   "metadata": {},
   "outputs": [
    {
     "data": {
      "text/plain": [
       "array(['unknown', 'lgbt'], dtype=object)"
      ]
     },
     "execution_count": 17,
     "metadata": {},
     "output_type": "execute_result"
    }
   ],
   "source": [
    "# Check the unique values in the \"identity\" column\n",
    "df[\"identity\"].unique()"
   ]
  },
  {
   "cell_type": "code",
   "execution_count": 18,
   "metadata": {},
   "outputs": [
    {
     "data": {
      "text/plain": [
       "array(['Automobiles', 'Comedy', 'Entertainment', 'Film',\n",
       "       'News and Politics', 'Gaming', 'Science and Technology', 'Shows',\n",
       "       'Sports', 'Pets and Animals', 'Music', 'Travel', 'Problematic',\n",
       "       'Education', 'Howto', 'Nonprofit', 'People'], dtype=object)"
      ]
     },
     "execution_count": 18,
     "metadata": {},
     "output_type": "execute_result"
    }
   ],
   "source": [
    "# Check the unique values in the \"category\" column\n",
    "df[\"category\"].unique()"
   ]
  },
  {
   "cell_type": "code",
   "execution_count": 19,
   "metadata": {},
   "outputs": [],
   "source": [
    "# Save cleaned dataframe to json\n",
    "df.to_json(\"final_data_for_machine_learning.json\")"
   ]
  },
  {
   "cell_type": "code",
   "execution_count": 20,
   "metadata": {},
   "outputs": [],
   "source": [
    "# Read clean json into a pandas dataframe\n",
    "df1 = pd.read_json(\"final_data_for_machine_learning.json\")"
   ]
  },
  {
   "cell_type": "code",
   "execution_count": 21,
   "metadata": {},
   "outputs": [
    {
     "name": "stdout",
     "output_type": "stream",
     "text": [
      "<class 'pandas.core.frame.DataFrame'>\n",
      "Index: 189489 entries, 0 to 189488\n",
      "Data columns (total 10 columns):\n",
      " #   Column          Non-Null Count   Dtype \n",
      "---  ------          --------------   ----- \n",
      " 0   comment         189489 non-null  object\n",
      " 1   category        189489 non-null  object\n",
      " 2   channel         189489 non-null  object\n",
      " 3   video_url       189489 non-null  object\n",
      " 4   video_id        189489 non-null  object\n",
      " 5   channel_size    189489 non-null  object\n",
      " 6   identity        189489 non-null  object\n",
      " 7   expanded_text   189489 non-null  object\n",
      " 8   processed_text  189489 non-null  object\n",
      " 9   score           189489 non-null  int64 \n",
      "dtypes: int64(1), object(9)\n",
      "memory usage: 15.9+ MB\n"
     ]
    }
   ],
   "source": [
    "# Check the dataframe info\n",
    "df1.info()"
   ]
  }
 ],
 "metadata": {
  "kernelspec": {
   "display_name": "p4",
   "language": "python",
   "name": "python3"
  },
  "language_info": {
   "codemirror_mode": {
    "name": "ipython",
    "version": 3
   },
   "file_extension": ".py",
   "mimetype": "text/x-python",
   "name": "python",
   "nbconvert_exporter": "python",
   "pygments_lexer": "ipython3",
   "version": "3.11.4"
  },
  "orig_nbformat": 4
 },
 "nbformat": 4,
 "nbformat_minor": 2
}
