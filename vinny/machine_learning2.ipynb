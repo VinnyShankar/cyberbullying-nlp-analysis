{
 "cells": [
  {
   "cell_type": "code",
   "execution_count": 1,
   "metadata": {},
   "outputs": [],
   "source": [
    "from textblob import TextBlob\n",
    "import pandas as pd"
   ]
  },
  {
   "cell_type": "code",
   "execution_count": 2,
   "metadata": {},
   "outputs": [],
   "source": [
    "df = pd.read_json(\"final_data_for_machine_learning.json\")"
   ]
  },
  {
   "cell_type": "code",
   "execution_count": 3,
   "metadata": {},
   "outputs": [],
   "source": [
    "def sentiment_analysis(df):\n",
    " def getSubjectivity(text):\n",
    "   return TextBlob(text).sentiment.subjectivity\n",
    "  \n",
    " #Create a function to get the polarity\n",
    " def getPolarity(text):\n",
    "   return TextBlob(text).sentiment.polarity\n",
    "  \n",
    " #Create two new columns ‘Subjectivity’ & ‘Polarity’\n",
    " df[\"TextBlob_Subjectivity\"] = df[\"processed_text\"].apply(getSubjectivity)\n",
    " df[\"TextBlob_Polarity\"] = df[\"processed_text\"].apply(getPolarity)\n",
    " def getAnalysis(score):\n",
    "  if score < 0:\n",
    "    return \"Negative\"\n",
    "  elif score == 0:\n",
    "    return \"Neutral\"\n",
    "  else:\n",
    "    return \"Positive\"\n",
    " df[\"TextBlob_Analysis\"] = df[\"TextBlob_Polarity\"].apply(getAnalysis)"
   ]
  },
  {
   "cell_type": "code",
   "execution_count": 4,
   "metadata": {},
   "outputs": [],
   "source": [
    "sentiment_analysis(df)"
   ]
  },
  {
   "cell_type": "code",
   "execution_count": 5,
   "metadata": {},
   "outputs": [
    {
     "data": {
      "text/html": [
       "<div>\n",
       "<style scoped>\n",
       "    .dataframe tbody tr th:only-of-type {\n",
       "        vertical-align: middle;\n",
       "    }\n",
       "\n",
       "    .dataframe tbody tr th {\n",
       "        vertical-align: top;\n",
       "    }\n",
       "\n",
       "    .dataframe thead th {\n",
       "        text-align: right;\n",
       "    }\n",
       "</style>\n",
       "<table border=\"1\" class=\"dataframe\">\n",
       "  <thead>\n",
       "    <tr style=\"text-align: right;\">\n",
       "      <th></th>\n",
       "      <th>processed_text</th>\n",
       "      <th>TextBlob_Analysis</th>\n",
       "    </tr>\n",
       "  </thead>\n",
       "  <tbody>\n",
       "    <tr>\n",
       "      <th>0</th>\n",
       "      <td>8 months? Is that all.</td>\n",
       "      <td>Neutral</td>\n",
       "    </tr>\n",
       "    <tr>\n",
       "      <th>1</th>\n",
       "      <td>impressed very effective</td>\n",
       "      <td>Positive</td>\n",
       "    </tr>\n",
       "    <tr>\n",
       "      <th>2</th>\n",
       "      <td>No matter what, you have to use brushes and ag...</td>\n",
       "      <td>Neutral</td>\n",
       "    </tr>\n",
       "    <tr>\n",
       "      <th>3</th>\n",
       "      <td>Good video BUT, why do not you \"articulate\" th...</td>\n",
       "      <td>Positive</td>\n",
       "    </tr>\n",
       "    <tr>\n",
       "      <th>4</th>\n",
       "      <td>My wheels werenever done until 215k km, they l...</td>\n",
       "      <td>Positive</td>\n",
       "    </tr>\n",
       "    <tr>\n",
       "      <th>...</th>\n",
       "      <td>...</td>\n",
       "      <td>...</td>\n",
       "    </tr>\n",
       "    <tr>\n",
       "      <th>95</th>\n",
       "      <td>good video....proved to me that when I threw a...</td>\n",
       "      <td>Positive</td>\n",
       "    </tr>\n",
       "    <tr>\n",
       "      <th>96</th>\n",
       "      <td>Ok, so the foam did not clean the wheel...of c...</td>\n",
       "      <td>Positive</td>\n",
       "    </tr>\n",
       "    <tr>\n",
       "      <th>97</th>\n",
       "      <td>Was not that dirty in the first place just dust</td>\n",
       "      <td>Negative</td>\n",
       "    </tr>\n",
       "    <tr>\n",
       "      <th>98</th>\n",
       "      <td>خربوطي خربوطي</td>\n",
       "      <td>Neutral</td>\n",
       "    </tr>\n",
       "    <tr>\n",
       "      <th>99</th>\n",
       "      <td>It is not even the solution it is the fact you...</td>\n",
       "      <td>Positive</td>\n",
       "    </tr>\n",
       "  </tbody>\n",
       "</table>\n",
       "<p>100 rows × 2 columns</p>\n",
       "</div>"
      ],
      "text/plain": [
       "                                       processed_text TextBlob_Analysis\n",
       "0                              8 months? Is that all.           Neutral\n",
       "1                            impressed very effective          Positive\n",
       "2   No matter what, you have to use brushes and ag...           Neutral\n",
       "3   Good video BUT, why do not you \"articulate\" th...          Positive\n",
       "4   My wheels werenever done until 215k km, they l...          Positive\n",
       "..                                                ...               ...\n",
       "95  good video....proved to me that when I threw a...          Positive\n",
       "96  Ok, so the foam did not clean the wheel...of c...          Positive\n",
       "97    Was not that dirty in the first place just dust          Negative\n",
       "98                                      خربوطي خربوطي           Neutral\n",
       "99  It is not even the solution it is the fact you...          Positive\n",
       "\n",
       "[100 rows x 2 columns]"
      ]
     },
     "execution_count": 5,
     "metadata": {},
     "output_type": "execute_result"
    }
   ],
   "source": [
    "df[[\"processed_text\",\"TextBlob_Analysis\"]].head(100)"
   ]
  },
  {
   "cell_type": "code",
   "execution_count": 8,
   "metadata": {},
   "outputs": [
    {
     "data": {
      "text/plain": [
       "'My wheels werenever done until 215k km, they looked better than those here'"
      ]
     },
     "execution_count": 8,
     "metadata": {},
     "output_type": "execute_result"
    }
   ],
   "source": [
    "df.iloc[4][\"processed_text\"]"
   ]
  },
  {
   "cell_type": "code",
   "execution_count": 9,
   "metadata": {},
   "outputs": [
    {
     "data": {
      "text/plain": [
       "'hurray'"
      ]
     },
     "execution_count": 9,
     "metadata": {},
     "output_type": "execute_result"
    }
   ],
   "source": [
    "(\"Hurray\").lower()"
   ]
  },
  {
   "cell_type": "code",
   "execution_count": 16,
   "metadata": {},
   "outputs": [],
   "source": [
    "def lowerc(x):\n",
    "    return x.lower()"
   ]
  },
  {
   "cell_type": "code",
   "execution_count": 17,
   "metadata": {},
   "outputs": [],
   "source": [
    "df[\"lower_text\"] = df[\"processed_text\"].apply(lowerc)"
   ]
  },
  {
   "cell_type": "code",
   "execution_count": 18,
   "metadata": {},
   "outputs": [
    {
     "data": {
      "text/html": [
       "<div>\n",
       "<style scoped>\n",
       "    .dataframe tbody tr th:only-of-type {\n",
       "        vertical-align: middle;\n",
       "    }\n",
       "\n",
       "    .dataframe tbody tr th {\n",
       "        vertical-align: top;\n",
       "    }\n",
       "\n",
       "    .dataframe thead th {\n",
       "        text-align: right;\n",
       "    }\n",
       "</style>\n",
       "<table border=\"1\" class=\"dataframe\">\n",
       "  <thead>\n",
       "    <tr style=\"text-align: right;\">\n",
       "      <th></th>\n",
       "      <th>comment</th>\n",
       "      <th>category</th>\n",
       "      <th>channel</th>\n",
       "      <th>video_url</th>\n",
       "      <th>video_id</th>\n",
       "      <th>channel_size</th>\n",
       "      <th>identity</th>\n",
       "      <th>expanded_text</th>\n",
       "      <th>processed_text</th>\n",
       "      <th>score</th>\n",
       "      <th>TextBlob_Subjectivity</th>\n",
       "      <th>TextBlob_Polarity</th>\n",
       "      <th>TextBlob_Analysis</th>\n",
       "      <th>lower_text</th>\n",
       "    </tr>\n",
       "  </thead>\n",
       "  <tbody>\n",
       "    <tr>\n",
       "      <th>0</th>\n",
       "      <td>8 months? Is that all.</td>\n",
       "      <td>Automobiles</td>\n",
       "      <td>https://www.youtube.com/@autofanaticcars</td>\n",
       "      <td>https://www.youtube.com/watch?v=Wqcy9do6YO0</td>\n",
       "      <td>Wqcy9do6YO0</td>\n",
       "      <td>small</td>\n",
       "      <td>unknown</td>\n",
       "      <td>8 months? Is that all.</td>\n",
       "      <td>8 months? Is that all.</td>\n",
       "      <td>1</td>\n",
       "      <td>0.000000</td>\n",
       "      <td>0.000000</td>\n",
       "      <td>Neutral</td>\n",
       "      <td>8 months? is that all.</td>\n",
       "    </tr>\n",
       "    <tr>\n",
       "      <th>1</th>\n",
       "      <td>impressed very effective</td>\n",
       "      <td>Automobiles</td>\n",
       "      <td>https://www.youtube.com/@autofanaticcars</td>\n",
       "      <td>https://www.youtube.com/watch?v=Wqcy9do6YO0</td>\n",
       "      <td>Wqcy9do6YO0</td>\n",
       "      <td>small</td>\n",
       "      <td>unknown</td>\n",
       "      <td>impressed very effective</td>\n",
       "      <td>impressed very effective</td>\n",
       "      <td>2</td>\n",
       "      <td>1.000000</td>\n",
       "      <td>0.890000</td>\n",
       "      <td>Positive</td>\n",
       "      <td>impressed very effective</td>\n",
       "    </tr>\n",
       "    <tr>\n",
       "      <th>2</th>\n",
       "      <td>No matter what, you have to use brushes and ag...</td>\n",
       "      <td>Automobiles</td>\n",
       "      <td>https://www.youtube.com/@autofanaticcars</td>\n",
       "      <td>https://www.youtube.com/watch?v=Wqcy9do6YO0</td>\n",
       "      <td>Wqcy9do6YO0</td>\n",
       "      <td>small</td>\n",
       "      <td>unknown</td>\n",
       "      <td>No matter what, you have to use brushes and ag...</td>\n",
       "      <td>No matter what, you have to use brushes and ag...</td>\n",
       "      <td>1</td>\n",
       "      <td>0.000000</td>\n",
       "      <td>0.000000</td>\n",
       "      <td>Neutral</td>\n",
       "      <td>no matter what, you have to use brushes and ag...</td>\n",
       "    </tr>\n",
       "    <tr>\n",
       "      <th>3</th>\n",
       "      <td>Good video BUT, why don't you \"articulate\" tha...</td>\n",
       "      <td>Automobiles</td>\n",
       "      <td>https://www.youtube.com/@autofanaticcars</td>\n",
       "      <td>https://www.youtube.com/watch?v=Wqcy9do6YO0</td>\n",
       "      <td>Wqcy9do6YO0</td>\n",
       "      <td>small</td>\n",
       "      <td>unknown</td>\n",
       "      <td>Good video BUT, why do not you \"articulate\" th...</td>\n",
       "      <td>Good video BUT, why do not you \"articulate\" th...</td>\n",
       "      <td>1</td>\n",
       "      <td>0.733333</td>\n",
       "      <td>0.366667</td>\n",
       "      <td>Positive</td>\n",
       "      <td>good video but, why do not you \"articulate\" th...</td>\n",
       "    </tr>\n",
       "    <tr>\n",
       "      <th>4</th>\n",
       "      <td>My wheels werenever done until 215k km, they l...</td>\n",
       "      <td>Automobiles</td>\n",
       "      <td>https://www.youtube.com/@autofanaticcars</td>\n",
       "      <td>https://www.youtube.com/watch?v=Wqcy9do6YO0</td>\n",
       "      <td>Wqcy9do6YO0</td>\n",
       "      <td>small</td>\n",
       "      <td>unknown</td>\n",
       "      <td>My wheels werenever done until 215k km, they l...</td>\n",
       "      <td>My wheels werenever done until 215k km, they l...</td>\n",
       "      <td>2</td>\n",
       "      <td>0.500000</td>\n",
       "      <td>0.500000</td>\n",
       "      <td>Positive</td>\n",
       "      <td>my wheels werenever done until 215k km, they l...</td>\n",
       "    </tr>\n",
       "  </tbody>\n",
       "</table>\n",
       "</div>"
      ],
      "text/plain": [
       "                                             comment     category  \\\n",
       "0                             8 months? Is that all.  Automobiles   \n",
       "1                           impressed very effective  Automobiles   \n",
       "2  No matter what, you have to use brushes and ag...  Automobiles   \n",
       "3  Good video BUT, why don't you \"articulate\" tha...  Automobiles   \n",
       "4  My wheels werenever done until 215k km, they l...  Automobiles   \n",
       "\n",
       "                                    channel  \\\n",
       "0  https://www.youtube.com/@autofanaticcars   \n",
       "1  https://www.youtube.com/@autofanaticcars   \n",
       "2  https://www.youtube.com/@autofanaticcars   \n",
       "3  https://www.youtube.com/@autofanaticcars   \n",
       "4  https://www.youtube.com/@autofanaticcars   \n",
       "\n",
       "                                     video_url     video_id channel_size  \\\n",
       "0  https://www.youtube.com/watch?v=Wqcy9do6YO0  Wqcy9do6YO0        small   \n",
       "1  https://www.youtube.com/watch?v=Wqcy9do6YO0  Wqcy9do6YO0        small   \n",
       "2  https://www.youtube.com/watch?v=Wqcy9do6YO0  Wqcy9do6YO0        small   \n",
       "3  https://www.youtube.com/watch?v=Wqcy9do6YO0  Wqcy9do6YO0        small   \n",
       "4  https://www.youtube.com/watch?v=Wqcy9do6YO0  Wqcy9do6YO0        small   \n",
       "\n",
       "  identity                                      expanded_text  \\\n",
       "0  unknown                             8 months? Is that all.   \n",
       "1  unknown                           impressed very effective   \n",
       "2  unknown  No matter what, you have to use brushes and ag...   \n",
       "3  unknown  Good video BUT, why do not you \"articulate\" th...   \n",
       "4  unknown  My wheels werenever done until 215k km, they l...   \n",
       "\n",
       "                                      processed_text  score  \\\n",
       "0                             8 months? Is that all.      1   \n",
       "1                           impressed very effective      2   \n",
       "2  No matter what, you have to use brushes and ag...      1   \n",
       "3  Good video BUT, why do not you \"articulate\" th...      1   \n",
       "4  My wheels werenever done until 215k km, they l...      2   \n",
       "\n",
       "   TextBlob_Subjectivity  TextBlob_Polarity TextBlob_Analysis  \\\n",
       "0               0.000000           0.000000           Neutral   \n",
       "1               1.000000           0.890000          Positive   \n",
       "2               0.000000           0.000000           Neutral   \n",
       "3               0.733333           0.366667          Positive   \n",
       "4               0.500000           0.500000          Positive   \n",
       "\n",
       "                                          lower_text  \n",
       "0                             8 months? is that all.  \n",
       "1                           impressed very effective  \n",
       "2  no matter what, you have to use brushes and ag...  \n",
       "3  good video but, why do not you \"articulate\" th...  \n",
       "4  my wheels werenever done until 215k km, they l...  "
      ]
     },
     "execution_count": 18,
     "metadata": {},
     "output_type": "execute_result"
    }
   ],
   "source": [
    "df.head()"
   ]
  }
 ],
 "metadata": {
  "kernelspec": {
   "display_name": "p4",
   "language": "python",
   "name": "python3"
  },
  "language_info": {
   "codemirror_mode": {
    "name": "ipython",
    "version": 3
   },
   "file_extension": ".py",
   "mimetype": "text/x-python",
   "name": "python",
   "nbconvert_exporter": "python",
   "pygments_lexer": "ipython3",
   "version": "3.11.4"
  },
  "orig_nbformat": 4
 },
 "nbformat": 4,
 "nbformat_minor": 2
}
