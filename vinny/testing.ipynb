{
 "cells": [
  {
   "cell_type": "code",
   "execution_count": 1,
   "metadata": {},
   "outputs": [
    {
     "name": "stderr",
     "output_type": "stream",
     "text": [
      "/Users/vinnyshankar/anaconda3/envs/p4/lib/python3.11/site-packages/tqdm/auto.py:21: TqdmWarning: IProgress not found. Please update jupyter and ipywidgets. See https://ipywidgets.readthedocs.io/en/stable/user_install.html\n",
      "  from .autonotebook import tqdm as notebook_tqdm\n"
     ]
    }
   ],
   "source": [
    "# imports\n",
    "import pandas as pd\n",
    "from transformers import AutoTokenizer\n",
    "from transformers import AutoModelForSequenceClassification\n",
    "from scipy.special import softmax"
   ]
  },
  {
   "cell_type": "code",
   "execution_count": 2,
   "metadata": {},
   "outputs": [
    {
     "data": {
      "text/html": [
       "<div>\n",
       "<style scoped>\n",
       "    .dataframe tbody tr th:only-of-type {\n",
       "        vertical-align: middle;\n",
       "    }\n",
       "\n",
       "    .dataframe tbody tr th {\n",
       "        vertical-align: top;\n",
       "    }\n",
       "\n",
       "    .dataframe thead th {\n",
       "        text-align: right;\n",
       "    }\n",
       "</style>\n",
       "<table border=\"1\" class=\"dataframe\">\n",
       "  <thead>\n",
       "    <tr style=\"text-align: right;\">\n",
       "      <th></th>\n",
       "      <th>category</th>\n",
       "      <th>channel</th>\n",
       "      <th>video_url</th>\n",
       "      <th>video_id</th>\n",
       "      <th>comments</th>\n",
       "    </tr>\n",
       "  </thead>\n",
       "  <tbody>\n",
       "    <tr>\n",
       "      <th>0</th>\n",
       "      <td>Automobiles</td>\n",
       "      <td>https://www.youtube.com/@autofanaticcars</td>\n",
       "      <td>https://www.youtube.com/watch?v=Wqcy9do6YO0</td>\n",
       "      <td>Wqcy9do6YO0</td>\n",
       "      <td>[Wheel Cleaner is In production and pre-order ...</td>\n",
       "    </tr>\n",
       "    <tr>\n",
       "      <th>1</th>\n",
       "      <td>Automobiles</td>\n",
       "      <td>https://www.youtube.com/@autofanaticcars</td>\n",
       "      <td>https://www.youtube.com/watch?v=NyNF0MfQN8s</td>\n",
       "      <td>NyNF0MfQN8s</td>\n",
       "      <td>[I know that on my 1122TST it also matters wha...</td>\n",
       "    </tr>\n",
       "    <tr>\n",
       "      <th>2</th>\n",
       "      <td>Automobiles</td>\n",
       "      <td>https://www.youtube.com/@autofanaticcars</td>\n",
       "      <td>https://www.youtube.com/watch?v=x3vzurNYbyM</td>\n",
       "      <td>x3vzurNYbyM</td>\n",
       "      <td>[Can you put it on top of PPF? Thanks, very ha...</td>\n",
       "    </tr>\n",
       "    <tr>\n",
       "      <th>3</th>\n",
       "      <td>Automobiles</td>\n",
       "      <td>https://www.youtube.com/@AutoAmateur</td>\n",
       "      <td>https://www.youtube.com/watch?v=qysq4YFOwPw</td>\n",
       "      <td>qysq4YFOwPw</td>\n",
       "      <td>[Hey australian Elon Musk can you show a littl...</td>\n",
       "    </tr>\n",
       "    <tr>\n",
       "      <th>4</th>\n",
       "      <td>Automobiles</td>\n",
       "      <td>https://www.youtube.com/@AutoAmateur</td>\n",
       "      <td>https://www.youtube.com/watch?v=B8zgCdINaAs</td>\n",
       "      <td>B8zgCdINaAs</td>\n",
       "      <td>[Excellent tutorial video. Congrats! Maybe two...</td>\n",
       "    </tr>\n",
       "  </tbody>\n",
       "</table>\n",
       "</div>"
      ],
      "text/plain": [
       "      category                                   channel  \\\n",
       "0  Automobiles  https://www.youtube.com/@autofanaticcars   \n",
       "1  Automobiles  https://www.youtube.com/@autofanaticcars   \n",
       "2  Automobiles  https://www.youtube.com/@autofanaticcars   \n",
       "3  Automobiles      https://www.youtube.com/@AutoAmateur   \n",
       "4  Automobiles      https://www.youtube.com/@AutoAmateur   \n",
       "\n",
       "                                     video_url     video_id  \\\n",
       "0  https://www.youtube.com/watch?v=Wqcy9do6YO0  Wqcy9do6YO0   \n",
       "1  https://www.youtube.com/watch?v=NyNF0MfQN8s  NyNF0MfQN8s   \n",
       "2  https://www.youtube.com/watch?v=x3vzurNYbyM  x3vzurNYbyM   \n",
       "3  https://www.youtube.com/watch?v=qysq4YFOwPw  qysq4YFOwPw   \n",
       "4  https://www.youtube.com/watch?v=B8zgCdINaAs  B8zgCdINaAs   \n",
       "\n",
       "                                            comments  \n",
       "0  [Wheel Cleaner is In production and pre-order ...  \n",
       "1  [I know that on my 1122TST it also matters wha...  \n",
       "2  [Can you put it on top of PPF? Thanks, very ha...  \n",
       "3  [Hey australian Elon Musk can you show a littl...  \n",
       "4  [Excellent tutorial video. Congrats! Maybe two...  "
      ]
     },
     "execution_count": 2,
     "metadata": {},
     "output_type": "execute_result"
    }
   ],
   "source": [
    "# read csv into pandas dataframe\n",
    "df = pd.read_json(\"small_channels_comments.json\")\n",
    "df.head()"
   ]
  },
  {
   "cell_type": "code",
   "execution_count": 3,
   "metadata": {},
   "outputs": [],
   "source": [
    "MODEL = f'cardiffnlp/twitter-roberta-base-sentiment'\n",
    "tokenizer = AutoTokenizer.from_pretrained(MODEL)\n",
    "model = AutoModelForSequenceClassification.from_pretrained(MODEL)"
   ]
  },
  {
   "cell_type": "code",
   "execution_count": null,
   "metadata": {},
   "outputs": [],
   "source": [
    "comments_list = df[\"comments\"].tolist()"
   ]
  },
  {
   "cell_type": "code",
   "execution_count": 4,
   "metadata": {},
   "outputs": [],
   "source": [
    "for x in range(0,len(comments_list)):\n",
    "    temp_df = pd.DataFrame(comments_list)\n",
    "    print(temp_df)"
   ]
  },
  {
   "cell_type": "code",
   "execution_count": 25,
   "metadata": {},
   "outputs": [],
   "source": [
    "example = \"azucar con un poquito cafecito\""
   ]
  },
  {
   "cell_type": "code",
   "execution_count": 26,
   "metadata": {},
   "outputs": [
    {
     "name": "stdout",
     "output_type": "stream",
     "text": [
      "{0: 0.15504193, 1: 0.69657236, 2: 0.14838572}\n"
     ]
    }
   ],
   "source": [
    "encoded_text = tokenizer(example, return_tensors= 'pt')\n",
    "output = model(** encoded_text)\n",
    "scores = output[0][0].detach().numpy()\n",
    "scores = softmax(scores)\n",
    "scores\n",
    "scores_dict = {\n",
    "    0: scores[0],\n",
    "    1: scores[1],\n",
    "    2: scores[2]\n",
    "}\n",
    "\n",
    "print(scores_dict)"
   ]
  },
  {
   "cell_type": "code",
   "execution_count": 27,
   "metadata": {},
   "outputs": [
    {
     "name": "stdout",
     "output_type": "stream",
     "text": [
      "1\n"
     ]
    }
   ],
   "source": [
    "Keymax = max(scores_dict, key= lambda x: scores_dict[x])\n",
    "print(Keymax)"
   ]
  }
 ],
 "metadata": {
  "kernelspec": {
   "display_name": "p4",
   "language": "python",
   "name": "python3"
  },
  "language_info": {
   "codemirror_mode": {
    "name": "ipython",
    "version": 3
   },
   "file_extension": ".py",
   "mimetype": "text/x-python",
   "name": "python",
   "nbconvert_exporter": "python",
   "pygments_lexer": "ipython3",
   "version": "3.11.4"
  },
  "orig_nbformat": 4
 },
 "nbformat": 4,
 "nbformat_minor": 2
}
