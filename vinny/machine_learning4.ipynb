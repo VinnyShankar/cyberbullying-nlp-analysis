{
  "cells": [
    {
      "cell_type": "code",
      "execution_count": 1,
      "metadata": {
        "id": "Aw2QyTjBShEq"
      },
      "outputs": [],
      "source": [
        "# Imports\n",
        "import numpy as np\n",
        "import pandas as pd\n",
        "\n",
        "import matplotlib.pyplot as plt\n",
        "import seaborn as sns\n",
        "\n",
        "from sklearn.linear_model import SGDClassifier, LogisticRegression\n",
        "from sklearn.preprocessing import LabelEncoder\n",
        "# from sklearn.ensemble import RandomForestClassifier\n",
        "\n",
        "from keras.models import Sequential\n",
        "from keras.layers import Dense, Activation, Dropout\n",
        "from keras.preprocessing import text\n",
        "from keras import utils\n",
        "\n",
        "from sklearn.feature_extraction.text import CountVectorizer #, TfidfTransformer\n",
        "from sklearn.naive_bayes import MultinomialNB\n",
        "from sklearn.pipeline import Pipeline\n",
        "from sklearn.metrics import accuracy_score\n",
        "\n",
        "from sklearn.model_selection import train_test_split\n",
        "from keras.models import Sequential\n",
        "from keras.layers import Dense\n"
      ]
    },
    {
      "cell_type": "code",
      "execution_count": 2,
      "metadata": {},
      "outputs": [],
      "source": [
        "# Read json into pandas dataframe\n",
        "df = pd.read_json(\"final_data_for_machine_learning.json\")"
      ]
    },
    {
      "cell_type": "code",
      "execution_count": 3,
      "metadata": {
        "id": "tHxXiIjAWo9L"
      },
      "outputs": [],
      "source": [
        "# Split data into train and test\n",
        "X_train, X_test, y_train, y_test = train_test_split(df['processed_text'], df['score'], random_state=1)"
      ]
    },
    {
      "cell_type": "code",
      "execution_count": 4,
      "metadata": {},
      "outputs": [
        {
          "data": {
            "text/plain": [
              "31816                                             Love this\n",
              "142787                                I am the middle child\n",
              "25903                                        I love foxes 🦊\n",
              "133153                                                    🙂\n",
              "89463     1:36 that is just... so funny still. Also saw ...\n",
              "                                ...                        \n",
              "73349     i feel like dream is more of the hunter then t...\n",
              "109259                                       サムネの横顔美しすぎるやろ。\n",
              "50057                                        Sangat terharu\n",
              "5192      oh my god i remember watching this with my bro...\n",
              "128037                                           7:07 -Dead\n",
              "Name: processed_text, Length: 142116, dtype: object"
            ]
          },
          "execution_count": 4,
          "metadata": {},
          "output_type": "execute_result"
        }
      ],
      "source": [
        "X_train"
      ]
    },
    {
      "cell_type": "code",
      "execution_count": 5,
      "metadata": {},
      "outputs": [
        {
          "data": {
            "text/plain": [
              "68606                              this war still going on?\n",
              "172913    yk he wanted to pick the pretty one but if he ...\n",
              "79507     Those kids did something that no other kid has...\n",
              "82489                    Nahhh I still do not believe them,\n",
              "32984     It is been fairly long since this video was up...\n",
              "                                ...                        \n",
              "69389                                   I LOVE YOU MR Beast\n",
              "180390                           Buzzfeed sucks ass anyway.\n",
              "43717                                                    🤣🤣\n",
              "42222                         Am I the only 29 y/o here? 😂😅\n",
              "9812      Once again 57% say Biden is not doing enough f...\n",
              "Name: processed_text, Length: 47373, dtype: object"
            ]
          },
          "execution_count": 5,
          "metadata": {},
          "output_type": "execute_result"
        }
      ],
      "source": [
        "X_test"
      ]
    },
    {
      "cell_type": "code",
      "execution_count": 6,
      "metadata": {
        "id": "PCPk0VyrcJeg"
      },
      "outputs": [
        {
          "name": "stdout",
          "output_type": "stream",
          "text": [
            "0.688535663774724\n"
          ]
        }
      ],
      "source": [
        "nb = Pipeline([('vect', CountVectorizer()),\n",
        "              ('clf', MultinomialNB())])\n",
        "nb.fit(X_train, y_train)\n",
        "class_log_prior = nb.named_steps['clf'].class_log_prior_\n",
        "feature_log_prob = nb.named_steps['clf'].feature_log_prob_\n",
        "class_prior = np.exp(class_log_prior)\n",
        "feature_prob = np.exp(feature_log_prob)\n",
        "y_pred = nb.predict(X_test)\n",
        "print((accuracy_score(y_pred, y_test)))"
      ]
    },
    {
      "cell_type": "code",
      "execution_count": 7,
      "metadata": {},
      "outputs": [],
      "source": [
        "# temp_y_train = []\n",
        "# temp_y_test = []\n",
        "# pred = []\n",
        "# for i in y_train:\n",
        "#     temp_y_train.append(i)\n",
        "# for i in y_test:\n",
        "#     temp_y_test.append(i)\n",
        "# vectorizer = CountVectorizer(min_df=1,max_features = 10000)\n",
        "# X = vectorizer.fit_transform(X_train).toarray()\n",
        "# clf = RandomForestClassifier()\n",
        "# clf.fit(X, temp_y_train)\n",
        "# pred.append(clf.predict(vectorizer.transform(X_test).toarray()))\n",
        "# accuracy = 0\n",
        "# k = 0\n",
        "# for i in pred:\n",
        "#     for j in i:\n",
        "#         if temp_y_test[k]==j:\n",
        "#             accuracy+=1\n",
        "#             k+=1\n",
        "# print(accuracy/k)"
      ]
    },
    {
      "cell_type": "code",
      "execution_count": 8,
      "metadata": {
        "colab": {
          "base_uri": "https://localhost:8080/"
        },
        "id": "H25_k8OWcL3D",
        "outputId": "3bfdd78d-b6fe-4e1b-f1de-39061e7de549"
      },
      "outputs": [],
      "source": [
        "# vectorizer = CountVectorizer(min_df=1,max_features = 10000)\n",
        "# X = vectorizer.fit_transform(X_train).toarray()\n",
        "# tfidf_transformer = TfidfTransformer()\n",
        "# tfidf_matrix = tfidf_transformer.fit_transform(X)\n",
        "# print(tfidf_matrix)"
      ]
    },
    {
      "cell_type": "code",
      "execution_count": 9,
      "metadata": {
        "id": "thYadIU1wpNr"
      },
      "outputs": [],
      "source": [
        "def neural_net():\n",
        "  train_comments =X_train\n",
        "  train_labels = y_train\n",
        "  test_comments = X_test\n",
        "  test_labels = y_test\n",
        "\n",
        "  max_words = 10000\n",
        "  tokenize = text.Tokenizer(num_words=max_words, char_level=False)\n",
        "  tokenize.fit_on_texts(train_comments)\n",
        "\n",
        "  x_tra = tokenize.texts_to_matrix(train_comments)\n",
        "  x_tes = tokenize.texts_to_matrix(test_comments)\n",
        "\n",
        "  encoder = LabelEncoder()\n",
        "  encoder.fit(train_labels)\n",
        "  y_tra = encoder.transform(train_labels)\n",
        "  y_tes = encoder.transform(test_labels)\n",
        "\n",
        "  num_classes = np.max(y_tra) + 1\n",
        "  y_tra = utils.to_categorical(y_tra, num_classes)\n",
        "  y_tes = utils.to_categorical(y_tes, num_classes)\n",
        "\n",
        "  batch_size = 32\n",
        "  epochs = 5\n",
        "\n",
        "  model = Sequential()\n",
        "  model.add(Dense(512, input_shape=(max_words,)))\n",
        "  model.add(Activation('relu'))\n",
        "  model.add(Dropout(0.5))\n",
        "  model.add(Dense(num_classes))\n",
        "  model.add(Activation('softmax'))\n",
        "\n",
        "  model.compile(loss='categorical_crossentropy',\n",
        "                optimizer='adam',\n",
        "                metrics=['accuracy'])\n",
        "                \n",
        "  history = model.fit(x_tra, y_tra,\n",
        "                      batch_size=batch_size,\n",
        "                      epochs=epochs,\n",
        "                      verbose=1,\n",
        "                      validation_split=0.3)\n",
        "  \n",
        "  score = model.evaluate(x_tes, y_tes,\n",
        "                       batch_size=batch_size, verbose=1)\n",
        "  return score[1]\n"
      ]
    },
    {
      "cell_type": "code",
      "execution_count": 10,
      "metadata": {
        "colab": {
          "base_uri": "https://localhost:8080/"
        },
        "id": "bHUW4_bZ8O7m",
        "outputId": "26971c01-5e0b-4fb6-f87e-4d34186de0c3"
      },
      "outputs": [
        {
          "name": "stderr",
          "output_type": "stream",
          "text": [
            "2023-08-20 08:23:04.230932: I metal_plugin/src/device/metal_device.cc:1154] Metal device set to: Apple M2\n",
            "2023-08-20 08:23:04.230957: I metal_plugin/src/device/metal_device.cc:296] systemMemory: 16.00 GB\n",
            "2023-08-20 08:23:04.230965: I metal_plugin/src/device/metal_device.cc:313] maxCacheSize: 5.33 GB\n",
            "2023-08-20 08:23:04.231596: I tensorflow/core/common_runtime/pluggable_device/pluggable_device_factory.cc:303] Could not identify NUMA node of platform GPU ID 0, defaulting to 0. Your kernel may not have been built with NUMA support.\n",
            "2023-08-20 08:23:04.231803: I tensorflow/core/common_runtime/pluggable_device/pluggable_device_factory.cc:269] Created TensorFlow device (/job:localhost/replica:0/task:0/device:GPU:0 with 0 MB memory) -> physical PluggableDevice (device: 0, name: METAL, pci bus id: <undefined>)\n"
          ]
        },
        {
          "name": "stdout",
          "output_type": "stream",
          "text": [
            "Epoch 1/5\n",
            "   1/3109 [..............................] - ETA: 25:16 - loss: 1.0967 - accuracy: 0.2812"
          ]
        },
        {
          "name": "stderr",
          "output_type": "stream",
          "text": [
            "2023-08-20 08:23:11.573704: I tensorflow/core/grappler/optimizers/custom_graph_optimizer_registry.cc:114] Plugin optimizer for device_type GPU is enabled.\n"
          ]
        },
        {
          "name": "stdout",
          "output_type": "stream",
          "text": [
            "3109/3109 [==============================] - ETA: 0s - loss: 0.6962 - accuracy: 0.7187"
          ]
        },
        {
          "name": "stderr",
          "output_type": "stream",
          "text": [
            "2023-08-20 08:23:44.289850: I tensorflow/core/grappler/optimizers/custom_graph_optimizer_registry.cc:114] Plugin optimizer for device_type GPU is enabled.\n"
          ]
        },
        {
          "name": "stdout",
          "output_type": "stream",
          "text": [
            "3109/3109 [==============================] - 40s 13ms/step - loss: 0.6962 - accuracy: 0.7187 - val_loss: 0.6350 - val_accuracy: 0.7493\n",
            "Epoch 2/5\n",
            "3109/3109 [==============================] - 42s 13ms/step - loss: 0.6141 - accuracy: 0.7620 - val_loss: 0.6377 - val_accuracy: 0.7501\n",
            "Epoch 3/5\n",
            "3109/3109 [==============================] - 42s 13ms/step - loss: 0.5906 - accuracy: 0.7708 - val_loss: 0.6349 - val_accuracy: 0.7542\n",
            "Epoch 4/5\n",
            "3109/3109 [==============================] - 41s 13ms/step - loss: 0.5830 - accuracy: 0.7755 - val_loss: 0.6416 - val_accuracy: 0.7504\n",
            "Epoch 5/5\n",
            "3109/3109 [==============================] - 41s 13ms/step - loss: 0.5774 - accuracy: 0.7776 - val_loss: 0.6609 - val_accuracy: 0.7453\n",
            "1481/1481 [==============================] - 9s 6ms/step - loss: 0.6580 - accuracy: 0.7458\n",
            "0.7458045482635498\n"
          ]
        }
      ],
      "source": [
        "print(neural_net())"
      ]
    },
    {
      "cell_type": "code",
      "execution_count": 11,
      "metadata": {
        "id": "a8Yii2V-_zHb"
      },
      "outputs": [],
      "source": [
        "def svm():\n",
        "  sgd = Pipeline([('vect', CountVectorizer()),\n",
        "                ('clf', SGDClassifier(loss='hinge', penalty='l2',alpha=1e-3, random_state=42, max_iter=5, tol=None)),\n",
        "               ])\n",
        "  sgd.fit(X_train, y_train)\n",
        "\n",
        "  y_pred = sgd.predict(X_test)\n",
        "  return accuracy_score (y_pred,y_test)\n"
      ]
    },
    {
      "cell_type": "code",
      "execution_count": 12,
      "metadata": {
        "colab": {
          "base_uri": "https://localhost:8080/"
        },
        "id": "3wA2VjPALjdH",
        "outputId": "23555bf5-7d9d-4076-8f84-b6a237ffc1ea"
      },
      "outputs": [
        {
          "name": "stdout",
          "output_type": "stream",
          "text": [
            "0.6907310071137568\n"
          ]
        }
      ],
      "source": [
        "print(svm())"
      ]
    },
    {
      "cell_type": "code",
      "execution_count": 13,
      "metadata": {
        "id": "rIFEUz2tLlc_"
      },
      "outputs": [],
      "source": [
        "def logistic_regression():\n",
        "  logreg = Pipeline([('vect', CountVectorizer()),\n",
        "                ('clf', LogisticRegression(n_jobs=1, C=1e5)),\n",
        "               ])\n",
        "  logreg.fit(X_train, y_train)\n",
        "\n",
        "\n",
        "  y_pred = logreg.predict(X_test)\n",
        "\n",
        "  return (accuracy_score(y_pred, y_test))"
      ]
    },
    {
      "cell_type": "code",
      "execution_count": 14,
      "metadata": {
        "colab": {
          "base_uri": "https://localhost:8080/"
        },
        "id": "SdbxQU81L133",
        "outputId": "ca048aa5-0871-4461-e3ff-42d6cbce0107"
      },
      "outputs": [
        {
          "name": "stderr",
          "output_type": "stream",
          "text": [
            "/Users/vinnyshankar/anaconda3/envs/p4/lib/python3.11/site-packages/sklearn/linear_model/_logistic.py:460: ConvergenceWarning: lbfgs failed to converge (status=1):\n",
            "STOP: TOTAL NO. of ITERATIONS REACHED LIMIT.\n",
            "\n",
            "Increase the number of iterations (max_iter) or scale the data as shown in:\n",
            "    https://scikit-learn.org/stable/modules/preprocessing.html\n",
            "Please also refer to the documentation for alternative solver options:\n",
            "    https://scikit-learn.org/stable/modules/linear_model.html#logistic-regression\n",
            "  n_iter_i = _check_optimize_result(\n"
          ]
        },
        {
          "name": "stdout",
          "output_type": "stream",
          "text": [
            "0.732252548920271\n"
          ]
        }
      ],
      "source": [
        "print(logistic_regression())"
      ]
    },
    {
      "cell_type": "code",
      "execution_count": 20,
      "metadata": {
        "colab": {
          "base_uri": "https://localhost:8080/",
          "height": 533
        },
        "id": "5gObF1y_OIXU",
        "outputId": "37db38c6-fe7c-41cd-c3bb-7f9ae1f8ce21"
      },
      "outputs": [
        {
          "data": {
            "image/png": "[encoded data removed]",
            "text/plain": [
              "<Figure size 640x480 with 1 Axes>"
            ]
          },
          "metadata": {},
          "output_type": "display_data"
        }
      ],
      "source": [
        "model = ['naive_bayes','neural_net_cnn','support_vector_machine','Logistic_Regression']\n",
        "model_accuracy= [68.9,74.6,69.1,73.2]\n",
        "df = pd.DataFrame(model, columns=['Model Name'])\n",
        "df['Accuracy']=model_accuracy\n",
        "sns.barplot(data=df,x='Model Name',y='Accuracy',palette = \"Blues\").set_title(\"Machine Learning Model Accuracy\")\n",
        "plt.xticks(rotation = 30)\n",
        "plt.show()"
      ]
    }
  ],
  "metadata": {
    "colab": {
      "authorship_tag": "ABX9TyPLJeuf1dImIfBEUraLILBJ",
      "provenance": []
    },
    "kernelspec": {
      "display_name": "Python 3",
      "name": "python3"
    },
    "language_info": {
      "codemirror_mode": {
        "name": "ipython",
        "version": 3
      },
      "file_extension": ".py",
      "mimetype": "text/x-python",
      "name": "python",
      "nbconvert_exporter": "python",
      "pygments_lexer": "ipython3",
      "version": "3.11.4"
    }
  },
  "nbformat": 4,
  "nbformat_minor": 0
}
