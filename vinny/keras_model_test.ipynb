{
 "cells": [
  {
   "cell_type": "markdown",
   "metadata": {},
   "source": [
    "# Keras model testing on clean data"
   ]
  },
  {
   "cell_type": "code",
   "execution_count": 1,
   "metadata": {},
   "outputs": [],
   "source": [
    "# Imports\n",
    "import pandas as pd\n",
    "from keras.preprocessing.sequence import pad_sequences\n",
    "from keras.models import Sequential\n",
    "from keras.layers import Embedding, LSTM, Dense, TextVectorization\n",
    "from sklearn.model_selection import train_test_split"
   ]
  },
  {
   "cell_type": "code",
   "execution_count": 2,
   "metadata": {},
   "outputs": [
    {
     "name": "stdout",
     "output_type": "stream",
     "text": [
      "<class 'pandas.core.frame.DataFrame'>\n",
      "Index: 189489 entries, 0 to 189488\n",
      "Data columns (total 10 columns):\n",
      " #   Column          Non-Null Count   Dtype \n",
      "---  ------          --------------   ----- \n",
      " 0   comment         189489 non-null  object\n",
      " 1   category        189489 non-null  object\n",
      " 2   channel         189489 non-null  object\n",
      " 3   video_url       189489 non-null  object\n",
      " 4   video_id        189489 non-null  object\n",
      " 5   channel_size    189489 non-null  object\n",
      " 6   identity        189489 non-null  object\n",
      " 7   expanded_text   189489 non-null  object\n",
      " 8   processed_text  189489 non-null  object\n",
      " 9   score           189489 non-null  int64 \n",
      "dtypes: int64(1), object(9)\n",
      "memory usage: 15.9+ MB\n"
     ]
    }
   ],
   "source": [
    "# Read clean data into pandas dataframe\n",
    "df = pd.read_json(\"final_data_for_machine_learning.json\")\n",
    "\n",
    "# Check dataframe info\n",
    "df.info()"
   ]
  },
  {
   "cell_type": "code",
   "execution_count": 3,
   "metadata": {},
   "outputs": [],
   "source": [
    "# Convert \"comments\" column into list\n",
    "comments = df[\"comment\"].tolist()"
   ]
  },
  {
   "cell_type": "code",
   "execution_count": 5,
   "metadata": {},
   "outputs": [
    {
     "name": "stderr",
     "output_type": "stream",
     "text": [
      "2023-08-17 07:30:41.128473: I tensorflow/core/grappler/optimizers/custom_graph_optimizer_registry.cc:114] Plugin optimizer for device_type GPU is enabled.\n"
     ]
    },
    {
     "ename": "AttributeError",
     "evalue": "'TextVectorization' object has no attribute 'texts_to_sequences'",
     "output_type": "error",
     "traceback": [
      "\u001b[0;31m---------------------------------------------------------------------------\u001b[0m",
      "\u001b[0;31mAttributeError\u001b[0m                            Traceback (most recent call last)",
      "Cell \u001b[0;32mIn[5], line 4\u001b[0m\n\u001b[1;32m      2\u001b[0m tokenizer \u001b[39m=\u001b[39m TextVectorization()\n\u001b[1;32m      3\u001b[0m tokenizer\u001b[39m.\u001b[39madapt(comments)\n\u001b[0;32m----> 4\u001b[0m sequences \u001b[39m=\u001b[39m tokenizer\u001b[39m.\u001b[39mtexts_to_sequences(comments)\n\u001b[1;32m      5\u001b[0m data \u001b[39m=\u001b[39m pad_sequences(sequences, maxlen\u001b[39m=\u001b[39m\u001b[39m300\u001b[39m)\n",
      "\u001b[0;31mAttributeError\u001b[0m: 'TextVectorization' object has no attribute 'texts_to_sequences'"
     ]
    }
   ],
   "source": [
    "# Vectorize comments\n",
    "tokenizer = TextVectorization()\n",
    "tokenizer.adapt(comments)\n",
    "sequences = tokenizer.texts_to_sequences(comments)\n",
    "data = pad_sequences(sequences, maxlen=300)"
   ]
  },
  {
   "cell_type": "code",
   "execution_count": null,
   "metadata": {},
   "outputs": [],
   "source": [
    "model = Sequential()\n",
    "model.add(Embedding(5000, 100, input_length=300))\n",
    "model.add(LSTM(100, dropout=0.2, recurrent_dropout=0.2))\n",
    "model.add(Dense(1, activation='sigmoid'))\n",
    "\n",
    "model.compile(loss='binary_crossentropy', optimizer='adam', metrics=['accuracy'])"
   ]
  },
  {
   "cell_type": "code",
   "execution_count": null,
   "metadata": {},
   "outputs": [],
   "source": [
    "y = df[\"score\"]\n",
    "# X = df.drop(columns=[\"comment\",\"channel\",\"video_url\",\"video_id\",\"score\"])"
   ]
  },
  {
   "cell_type": "code",
   "execution_count": null,
   "metadata": {},
   "outputs": [],
   "source": [
    "# y.head()"
   ]
  },
  {
   "cell_type": "code",
   "execution_count": null,
   "metadata": {},
   "outputs": [],
   "source": [
    "# X.head()"
   ]
  },
  {
   "cell_type": "code",
   "execution_count": null,
   "metadata": {},
   "outputs": [],
   "source": [
    "# X = pd.get_dummies(X)\n",
    "# X.info()"
   ]
  },
  {
   "cell_type": "code",
   "execution_count": null,
   "metadata": {},
   "outputs": [],
   "source": [
    "# X[\"comment\"] = comments\n",
    "# X.head()"
   ]
  },
  {
   "cell_type": "code",
   "execution_count": null,
   "metadata": {},
   "outputs": [],
   "source": [
    "\n",
    "\n",
    "X_train, X_test, y_train, y_test = train_test_split(data, y, test_size=0.2, random_state=42)\n",
    "\n",
    "model.fit(X_train, y_train, validation_data=(X_test, y_test), epochs=5, batch_size=32)"
   ]
  }
 ],
 "metadata": {
  "kernelspec": {
   "display_name": "p4",
   "language": "python",
   "name": "python3"
  },
  "language_info": {
   "codemirror_mode": {
    "name": "ipython",
    "version": 3
   },
   "file_extension": ".py",
   "mimetype": "text/x-python",
   "name": "python",
   "nbconvert_exporter": "python",
   "pygments_lexer": "ipython3",
   "version": "3.11.4"
  },
  "orig_nbformat": 4
 },
 "nbformat": 4,
 "nbformat_minor": 2
}
