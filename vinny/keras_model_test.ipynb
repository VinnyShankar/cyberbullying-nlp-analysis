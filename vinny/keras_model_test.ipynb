{
 "cells": [
  {
   "cell_type": "markdown",
   "metadata": {},
   "source": [
    "# Keras model testing on clean data"
   ]
  },
  {
   "cell_type": "code",
   "execution_count": 1,
   "metadata": {},
   "outputs": [],
   "source": [
    "# Imports\n",
    "import pandas as pd\n",
    "from keras.preprocessing.text import Tokenizer\n",
    "from keras.preprocessing.sequence import pad_sequences\n",
    "from keras.models import Sequential\n",
    "from keras.layers import Embedding, LSTM, Dense\n",
    "from sklearn.model_selection import train_test_split"
   ]
  },
  {
   "cell_type": "code",
   "execution_count": 2,
   "metadata": {},
   "outputs": [
    {
     "name": "stdout",
     "output_type": "stream",
     "text": [
      "<class 'pandas.core.frame.DataFrame'>\n",
      "Index: 189489 entries, 0 to 189488\n",
      "Data columns (total 10 columns):\n",
      " #   Column          Non-Null Count   Dtype \n",
      "---  ------          --------------   ----- \n",
      " 0   comment         189489 non-null  object\n",
      " 1   category        189489 non-null  object\n",
      " 2   channel         189489 non-null  object\n",
      " 3   video_url       189489 non-null  object\n",
      " 4   video_id        189489 non-null  object\n",
      " 5   channel_size    189489 non-null  object\n",
      " 6   identity        189489 non-null  object\n",
      " 7   expanded_text   189489 non-null  object\n",
      " 8   processed_text  189489 non-null  object\n",
      " 9   score           189489 non-null  int64 \n",
      "dtypes: int64(1), object(9)\n",
      "memory usage: 15.9+ MB\n"
     ]
    }
   ],
   "source": [
    "# Read clean data into pandas dataframe\n",
    "df = pd.read_json(\"final_data_for_machine_learning.json\")\n",
    "\n",
    "# Check dataframe info\n",
    "df.info()"
   ]
  },
  {
   "cell_type": "code",
   "execution_count": 3,
   "metadata": {},
   "outputs": [
    {
     "data": {
      "text/html": [
       "<div>\n",
       "<style scoped>\n",
       "    .dataframe tbody tr th:only-of-type {\n",
       "        vertical-align: middle;\n",
       "    }\n",
       "\n",
       "    .dataframe tbody tr th {\n",
       "        vertical-align: top;\n",
       "    }\n",
       "\n",
       "    .dataframe thead th {\n",
       "        text-align: right;\n",
       "    }\n",
       "</style>\n",
       "<table border=\"1\" class=\"dataframe\">\n",
       "  <thead>\n",
       "    <tr style=\"text-align: right;\">\n",
       "      <th></th>\n",
       "      <th>comment</th>\n",
       "      <th>category</th>\n",
       "      <th>channel</th>\n",
       "      <th>video_url</th>\n",
       "      <th>video_id</th>\n",
       "      <th>channel_size</th>\n",
       "      <th>identity</th>\n",
       "      <th>expanded_text</th>\n",
       "      <th>processed_text</th>\n",
       "      <th>score</th>\n",
       "    </tr>\n",
       "  </thead>\n",
       "  <tbody>\n",
       "    <tr>\n",
       "      <th>0</th>\n",
       "      <td>8 months? Is that all.</td>\n",
       "      <td>Automobiles</td>\n",
       "      <td>https://www.youtube.com/@autofanaticcars</td>\n",
       "      <td>https://www.youtube.com/watch?v=Wqcy9do6YO0</td>\n",
       "      <td>Wqcy9do6YO0</td>\n",
       "      <td>small</td>\n",
       "      <td>unknown</td>\n",
       "      <td>8 months? Is that all.</td>\n",
       "      <td>8 months? Is that all.</td>\n",
       "      <td>1</td>\n",
       "    </tr>\n",
       "    <tr>\n",
       "      <th>1</th>\n",
       "      <td>impressed very effective</td>\n",
       "      <td>Automobiles</td>\n",
       "      <td>https://www.youtube.com/@autofanaticcars</td>\n",
       "      <td>https://www.youtube.com/watch?v=Wqcy9do6YO0</td>\n",
       "      <td>Wqcy9do6YO0</td>\n",
       "      <td>small</td>\n",
       "      <td>unknown</td>\n",
       "      <td>impressed very effective</td>\n",
       "      <td>impressed very effective</td>\n",
       "      <td>2</td>\n",
       "    </tr>\n",
       "    <tr>\n",
       "      <th>2</th>\n",
       "      <td>No matter what, you have to use brushes and ag...</td>\n",
       "      <td>Automobiles</td>\n",
       "      <td>https://www.youtube.com/@autofanaticcars</td>\n",
       "      <td>https://www.youtube.com/watch?v=Wqcy9do6YO0</td>\n",
       "      <td>Wqcy9do6YO0</td>\n",
       "      <td>small</td>\n",
       "      <td>unknown</td>\n",
       "      <td>No matter what, you have to use brushes and ag...</td>\n",
       "      <td>No matter what, you have to use brushes and ag...</td>\n",
       "      <td>1</td>\n",
       "    </tr>\n",
       "    <tr>\n",
       "      <th>3</th>\n",
       "      <td>Good video BUT, why don't you \"articulate\" tha...</td>\n",
       "      <td>Automobiles</td>\n",
       "      <td>https://www.youtube.com/@autofanaticcars</td>\n",
       "      <td>https://www.youtube.com/watch?v=Wqcy9do6YO0</td>\n",
       "      <td>Wqcy9do6YO0</td>\n",
       "      <td>small</td>\n",
       "      <td>unknown</td>\n",
       "      <td>Good video BUT, why do not you \"articulate\" th...</td>\n",
       "      <td>Good video BUT, why do not you \"articulate\" th...</td>\n",
       "      <td>1</td>\n",
       "    </tr>\n",
       "    <tr>\n",
       "      <th>4</th>\n",
       "      <td>My wheels werenever done until 215k km, they l...</td>\n",
       "      <td>Automobiles</td>\n",
       "      <td>https://www.youtube.com/@autofanaticcars</td>\n",
       "      <td>https://www.youtube.com/watch?v=Wqcy9do6YO0</td>\n",
       "      <td>Wqcy9do6YO0</td>\n",
       "      <td>small</td>\n",
       "      <td>unknown</td>\n",
       "      <td>My wheels werenever done until 215k km, they l...</td>\n",
       "      <td>My wheels werenever done until 215k km, they l...</td>\n",
       "      <td>2</td>\n",
       "    </tr>\n",
       "  </tbody>\n",
       "</table>\n",
       "</div>"
      ],
      "text/plain": [
       "                                             comment     category  \\\n",
       "0                             8 months? Is that all.  Automobiles   \n",
       "1                           impressed very effective  Automobiles   \n",
       "2  No matter what, you have to use brushes and ag...  Automobiles   \n",
       "3  Good video BUT, why don't you \"articulate\" tha...  Automobiles   \n",
       "4  My wheels werenever done until 215k km, they l...  Automobiles   \n",
       "\n",
       "                                    channel  \\\n",
       "0  https://www.youtube.com/@autofanaticcars   \n",
       "1  https://www.youtube.com/@autofanaticcars   \n",
       "2  https://www.youtube.com/@autofanaticcars   \n",
       "3  https://www.youtube.com/@autofanaticcars   \n",
       "4  https://www.youtube.com/@autofanaticcars   \n",
       "\n",
       "                                     video_url     video_id channel_size  \\\n",
       "0  https://www.youtube.com/watch?v=Wqcy9do6YO0  Wqcy9do6YO0        small   \n",
       "1  https://www.youtube.com/watch?v=Wqcy9do6YO0  Wqcy9do6YO0        small   \n",
       "2  https://www.youtube.com/watch?v=Wqcy9do6YO0  Wqcy9do6YO0        small   \n",
       "3  https://www.youtube.com/watch?v=Wqcy9do6YO0  Wqcy9do6YO0        small   \n",
       "4  https://www.youtube.com/watch?v=Wqcy9do6YO0  Wqcy9do6YO0        small   \n",
       "\n",
       "  identity                                      expanded_text  \\\n",
       "0  unknown                             8 months? Is that all.   \n",
       "1  unknown                           impressed very effective   \n",
       "2  unknown  No matter what, you have to use brushes and ag...   \n",
       "3  unknown  Good video BUT, why do not you \"articulate\" th...   \n",
       "4  unknown  My wheels werenever done until 215k km, they l...   \n",
       "\n",
       "                                      processed_text  score  \n",
       "0                             8 months? Is that all.      1  \n",
       "1                           impressed very effective      2  \n",
       "2  No matter what, you have to use brushes and ag...      1  \n",
       "3  Good video BUT, why do not you \"articulate\" th...      1  \n",
       "4  My wheels werenever done until 215k km, they l...      2  "
      ]
     },
     "execution_count": 3,
     "metadata": {},
     "output_type": "execute_result"
    }
   ],
   "source": [
    "# Preview the dataframe\n",
    "df.head()"
   ]
  },
  {
   "cell_type": "code",
   "execution_count": 4,
   "metadata": {},
   "outputs": [],
   "source": [
    "# Convert \"comments\" column into list\n",
    "comments = df[\"comment\"].tolist()"
   ]
  },
  {
   "cell_type": "code",
   "execution_count": 7,
   "metadata": {},
   "outputs": [],
   "source": [
    "temp_df = df[[\"comment\",\"processed_text\"]]"
   ]
  },
  {
   "cell_type": "code",
   "execution_count": null,
   "metadata": {},
   "outputs": [],
   "source": [
    "temp_df"
   ]
  },
  {
   "cell_type": "code",
   "execution_count": null,
   "metadata": {},
   "outputs": [],
   "source": [
    "# Clean and tokenize comments\n",
    "tokenizer = Tokenizer(num_words=5000, lower=True)\n",
    "tokenizer.fit_on_texts(comments)\n",
    "sequences = tokenizer.texts_to_sequences(comments)\n",
    "data = pad_sequences(sequences, maxlen=300)"
   ]
  },
  {
   "cell_type": "code",
   "execution_count": null,
   "metadata": {},
   "outputs": [],
   "source": [
    "# Preview the features\n",
    "data"
   ]
  },
  {
   "cell_type": "code",
   "execution_count": null,
   "metadata": {},
   "outputs": [],
   "source": [
    "model = Sequential()\n",
    "model.add(Embedding(5000, 100, input_length=300))\n",
    "model.add(LSTM(100, dropout=0.2, recurrent_dropout=0.2))\n",
    "model.add(Dense(1, activation='sigmoid'))\n",
    "\n",
    "model.compile(loss='binary_crossentropy', optimizer='adam', metrics=['accuracy'])"
   ]
  },
  {
   "cell_type": "code",
   "execution_count": null,
   "metadata": {},
   "outputs": [],
   "source": [
    "y = df[\"score\"]\n",
    "# X = df.drop(columns=[\"comment\",\"channel\",\"video_url\",\"video_id\",\"score\"])"
   ]
  },
  {
   "cell_type": "code",
   "execution_count": null,
   "metadata": {},
   "outputs": [],
   "source": [
    "# X.head()"
   ]
  },
  {
   "cell_type": "code",
   "execution_count": null,
   "metadata": {},
   "outputs": [],
   "source": [
    "# X = pd.get_dummies(X)\n",
    "# X.info()"
   ]
  },
  {
   "cell_type": "code",
   "execution_count": null,
   "metadata": {},
   "outputs": [],
   "source": [
    "# X[\"comment\"] = comments\n",
    "# X.head()"
   ]
  },
  {
   "cell_type": "code",
   "execution_count": null,
   "metadata": {},
   "outputs": [],
   "source": [
    "X_train, X_test, y_train, y_test = train_test_split(data, y, test_size=0.2, random_state=42)\n",
    "\n",
    "model.fit(X_train, y_train, validation_data=(X_test, y_test), epochs=5, batch_size=32)"
   ]
  }
 ],
 "metadata": {
  "kernelspec": {
   "display_name": "p4",
   "language": "python",
   "name": "python3"
  },
  "language_info": {
   "codemirror_mode": {
    "name": "ipython",
    "version": 3
   },
   "file_extension": ".py",
   "mimetype": "text/x-python",
   "name": "python",
   "nbconvert_exporter": "python",
   "pygments_lexer": "ipython3",
   "version": "3.11.4"
  },
  "orig_nbformat": 4
 },
 "nbformat": 4,
 "nbformat_minor": 2
}
