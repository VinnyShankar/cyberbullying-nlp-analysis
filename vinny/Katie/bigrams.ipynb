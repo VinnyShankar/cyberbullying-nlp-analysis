{
 "cells": [
  {
   "cell_type": "code",
   "execution_count": 1,
   "metadata": {},
   "outputs": [
    {
     "data": {
      "text/html": [
       "        <script type=\"text/javascript\">\n",
       "        window.PlotlyConfig = {MathJaxConfig: 'local'};\n",
       "        if (window.MathJax && window.MathJax.Hub && window.MathJax.Hub.Config) {window.MathJax.Hub.Config({SVG: {font: \"STIX-Web\"}});}\n",
       "        if (typeof require !== 'undefined') {\n",
       "        require.undef(\"plotly\");\n",
       "        requirejs.config({\n",
       "            paths: {\n",
       "                'plotly': ['https://cdn.plot.ly/plotly-2.25.2.min']\n",
       "            }\n",
       "        });\n",
       "        require(['plotly'], function(Plotly) {\n",
       "            window._Plotly = Plotly;\n",
       "        });\n",
       "        }\n",
       "        </script>\n",
       "        "
      ]
     },
     "metadata": {},
     "output_type": "display_data"
    }
   ],
   "source": [
    "# N-gram and Wordcloud coding helping from Clément Delteil\n",
    "import csv\n",
    "import chart_studio\n",
    "import re\n",
    "import string\n",
    "# import emot\n",
    "import collections\n",
    "import ipywidgets\n",
    "import contractions\n",
    "import cufflinks\n",
    "import nltk.tokenize\n",
    "\n",
    "import chart_studio.plotly as py\n",
    "import chart_studio.tools as tls\n",
    "import plotly.express as px\n",
    "import plotly.io as pio\n",
    "import plotly.graph_objects as go\n",
    "import pandas as pd\n",
    "import matplotlib.pyplot as plt\n",
    "import matplotlib.font_manager as fm\n",
    "import numpy as np\n",
    "\n",
    "from textblob import TextBlob\n",
    "#from google.colab import widgets\n",
    "from sklearn.feature_extraction.text import CountVectorizer\n",
    "from nltk.tokenize import RegexpTokenizer\n",
    "from nltk.probability import FreqDist\n",
    "from nltk.stem import WordNetLemmatizer\n",
    "from nltk.corpus import stopwords\n",
    "from nltk.sentiment.vader import SentimentIntensityAnalyzer\n",
    "from wordcloud import WordCloud, STOPWORDS, ImageColorGenerator\n",
    "from PIL import Image\n",
    "\n",
    "pd.set_option('display.max_colwidth', None)\n",
    "sid = SentimentIntensityAnalyzer()\n",
    "# emot_obj = emot.core.emot()\n",
    "cufflinks.set_config_file(world_readable=True, theme='pearl')\n",
    "cufflinks.go_offline()\n",
    "pio.renderers.default = 'colab'"
   ]
  },
  {
   "cell_type": "code",
   "execution_count": 2,
   "metadata": {},
   "outputs": [],
   "source": [
    "df = pd.read_json(\"../final_data_for_machine_learning.json\")\n",
    "df = df[(df[\"identity\"]==\"lgbt\")&(df[\"score\"]==0)]"
   ]
  },
  {
   "cell_type": "code",
   "execution_count": 3,
   "metadata": {},
   "outputs": [
    {
     "data": {
      "text/html": [
       "<div>\n",
       "<style scoped>\n",
       "    .dataframe tbody tr th:only-of-type {\n",
       "        vertical-align: middle;\n",
       "    }\n",
       "\n",
       "    .dataframe tbody tr th {\n",
       "        vertical-align: top;\n",
       "    }\n",
       "\n",
       "    .dataframe thead th {\n",
       "        text-align: right;\n",
       "    }\n",
       "</style>\n",
       "<table border=\"1\" class=\"dataframe\">\n",
       "  <thead>\n",
       "    <tr style=\"text-align: right;\">\n",
       "      <th></th>\n",
       "      <th>comment</th>\n",
       "      <th>category</th>\n",
       "      <th>channel</th>\n",
       "      <th>video_url</th>\n",
       "      <th>video_id</th>\n",
       "      <th>channel_size</th>\n",
       "      <th>identity</th>\n",
       "      <th>expanded_text</th>\n",
       "      <th>processed_text</th>\n",
       "      <th>score</th>\n",
       "    </tr>\n",
       "  </thead>\n",
       "  <tbody>\n",
       "    <tr>\n",
       "      <th>140719</th>\n",
       "      <td>this review is all over the place.\\n\\none second your underplaying moriarty's importance in the original series the next you exaggerating it?\\n\"this editing is the show makers calling you stupid\" and then ten seconds later \"this editing is really effective at putting you in sherlocks shoes\"\\n\\nits this damned if you do damned if you don't arguing style. really annoying to listen to. Its like you dont have anything to say sometimes and just insult things because a thought popped into your mind. \\n\\nabout a minute later you have a valid critique of the editing: its overused. you have some great critiques in this review but sometimes you're writing lacks focus.</td>\n",
       "      <td>Education</td>\n",
       "      <td>https://www.youtube.com/@hbomberguy</td>\n",
       "      <td>https://www.youtube.com/watch?v=LkoGBOs5ecM</td>\n",
       "      <td>LkoGBOs5ecM</td>\n",
       "      <td>small</td>\n",
       "      <td>lgbt</td>\n",
       "      <td>this review is all over the place.\\n\\none second your underplaying moriarty's importance in the original series the next you exaggerating it?\\n\"this editing is the show makers calling you stupid\" and then ten seconds later \"this editing is really effective at putting you in sherlocks shoes\"\\n\\nits this damned if you do damned if you do not arguing style. really annoying to listen to. Its like you do not have anything to say sometimes and just insult things because a thought popped into your mind. \\n\\nabout a minute later you have a valid critique of the editing: its overused. you have some great critiques in this review but sometimes you are writing lacks focus.</td>\n",
       "      <td>this review is all over the place. one second your underplaying moriarty's importance in the original series the next you exaggerating it? \"this editing is the show makers calling you stupid\" and then ten seconds later \"this editing is really effective at putting you in sherlocks shoes\" its this damned if you do damned if you do not arguing style. really annoying to listen to. Its like you do not have anything to say sometimes and just insult things because a thought popped into your mind. about a minute later you have a valid critique of the editing: its overused. you have some great critiques in this review but sometimes you are writing lacks focus.</td>\n",
       "      <td>0</td>\n",
       "    </tr>\n",
       "    <tr>\n",
       "      <th>150191</th>\n",
       "      <td>\"Yes hire Hollywood actors that can't Voice Act for their Life, let's not hire Trained &amp; Experienced VAs like Laura Bailey, Troy Baker, Nolan North, Ashley Johnson, Travis Willingham,  or any other Experienced Voice Actor.\"\\nF#ck me man.</td>\n",
       "      <td>Entertainment</td>\n",
       "      <td>https://www.youtube.com/@LindsayEllisVids</td>\n",
       "      <td>https://www.youtube.com/watch?v=nyiBdccfNkg</td>\n",
       "      <td>nyiBdccfNkg</td>\n",
       "      <td>small</td>\n",
       "      <td>lgbt</td>\n",
       "      <td>\"Yes hire Hollywood actors that cannot Voice Act for their Life, let us not hire Trained &amp; Experienced VAs like Laura Bailey, Troy Baker, Nolan North, Ashley Johnson, Travis Willingham,  or any other Experienced Voice Actor.\"\\nF#ck me man.</td>\n",
       "      <td>\"Yes hire Hollywood actors that cannot Voice Act for their Life, let us not hire Trained &amp; Experienced VAs like Laura Bailey, Troy Baker, Nolan North, Ashley Johnson, Travis Willingham, or any other Experienced Voice Actor.\" F me man.</td>\n",
       "      <td>0</td>\n",
       "    </tr>\n",
       "    <tr>\n",
       "      <th>135073</th>\n",
       "      <td>Ohhh the irony!</td>\n",
       "      <td>Comedy</td>\n",
       "      <td>https://www.youtube.com/@shane</td>\n",
       "      <td>https://www.youtube.com/watch?v=xUf2-sjGqQw</td>\n",
       "      <td>xUf2-sjGqQw</td>\n",
       "      <td>small</td>\n",
       "      <td>lgbt</td>\n",
       "      <td>Ohhh the irony!</td>\n",
       "      <td>Ohhh the irony!</td>\n",
       "      <td>0</td>\n",
       "    </tr>\n",
       "    <tr>\n",
       "      <th>143573</th>\n",
       "      <td>Wow another good woman down can't watch video</td>\n",
       "      <td>Entertainment</td>\n",
       "      <td>https://www.youtube.com/@andrearussett</td>\n",
       "      <td>https://www.youtube.com/watch?v=xrcuudlqICw</td>\n",
       "      <td>xrcuudlqICw</td>\n",
       "      <td>small</td>\n",
       "      <td>lgbt</td>\n",
       "      <td>Wow another good woman down cannot watch video</td>\n",
       "      <td>Wow another good woman down cannot watch video</td>\n",
       "      <td>0</td>\n",
       "    </tr>\n",
       "    <tr>\n",
       "      <th>141581</th>\n",
       "      <td>She must be a pervert that just wants to see people nakid.</td>\n",
       "      <td>Education</td>\n",
       "      <td>https://www.youtube.com/@lacigreen</td>\n",
       "      <td>https://www.youtube.com/watch?v=wh4nUlslmso</td>\n",
       "      <td>wh4nUlslmso</td>\n",
       "      <td>small</td>\n",
       "      <td>lgbt</td>\n",
       "      <td>She must be a pervert that just wants to see people nakid.</td>\n",
       "      <td>She must be a pervert that just wants to see people nakid.</td>\n",
       "      <td>0</td>\n",
       "    </tr>\n",
       "  </tbody>\n",
       "</table>\n",
       "</div>"
      ],
      "text/plain": [
       "                                                                                                                                                                                                                                                                                                                                                                                                                                                                                                                                                                                                                                                                                           comment  \\\n",
       "140719  this review is all over the place.\\n\\none second your underplaying moriarty's importance in the original series the next you exaggerating it?\\n\"this editing is the show makers calling you stupid\" and then ten seconds later \"this editing is really effective at putting you in sherlocks shoes\"\\n\\nits this damned if you do damned if you don't arguing style. really annoying to listen to. Its like you dont have anything to say sometimes and just insult things because a thought popped into your mind. \\n\\nabout a minute later you have a valid critique of the editing: its overused. you have some great critiques in this review but sometimes you're writing lacks focus.   \n",
       "150191                                                                                                                                                                                                                                                                                                                                                                                                                                               \"Yes hire Hollywood actors that can't Voice Act for their Life, let's not hire Trained & Experienced VAs like Laura Bailey, Troy Baker, Nolan North, Ashley Johnson, Travis Willingham,  or any other Experienced Voice Actor.\"\\nF#ck me man.   \n",
       "135073                                                                                                                                                                                                                                                                                                                                                                                                                                                                                                                                                                                                                                                                             Ohhh the irony!   \n",
       "143573                                                                                                                                                                                                                                                                                                                                                                                                                                                                                                                                                                                                                                               Wow another good woman down can't watch video   \n",
       "141581                                                                                                                                                                                                                                                                                                                                                                                                                                                                                                                                                                                                                                  She must be a pervert that just wants to see people nakid.   \n",
       "\n",
       "             category                                    channel  \\\n",
       "140719      Education        https://www.youtube.com/@hbomberguy   \n",
       "150191  Entertainment  https://www.youtube.com/@LindsayEllisVids   \n",
       "135073         Comedy             https://www.youtube.com/@shane   \n",
       "143573  Entertainment     https://www.youtube.com/@andrearussett   \n",
       "141581      Education         https://www.youtube.com/@lacigreen   \n",
       "\n",
       "                                          video_url     video_id channel_size  \\\n",
       "140719  https://www.youtube.com/watch?v=LkoGBOs5ecM  LkoGBOs5ecM        small   \n",
       "150191  https://www.youtube.com/watch?v=nyiBdccfNkg  nyiBdccfNkg        small   \n",
       "135073  https://www.youtube.com/watch?v=xUf2-sjGqQw  xUf2-sjGqQw        small   \n",
       "143573  https://www.youtube.com/watch?v=xrcuudlqICw  xrcuudlqICw        small   \n",
       "141581  https://www.youtube.com/watch?v=wh4nUlslmso  wh4nUlslmso        small   \n",
       "\n",
       "       identity  \\\n",
       "140719     lgbt   \n",
       "150191     lgbt   \n",
       "135073     lgbt   \n",
       "143573     lgbt   \n",
       "141581     lgbt   \n",
       "\n",
       "                                                                                                                                                                                                                                                                                                                                                                                                                                                                                                                                                                                                                                                                                         expanded_text  \\\n",
       "140719  this review is all over the place.\\n\\none second your underplaying moriarty's importance in the original series the next you exaggerating it?\\n\"this editing is the show makers calling you stupid\" and then ten seconds later \"this editing is really effective at putting you in sherlocks shoes\"\\n\\nits this damned if you do damned if you do not arguing style. really annoying to listen to. Its like you do not have anything to say sometimes and just insult things because a thought popped into your mind. \\n\\nabout a minute later you have a valid critique of the editing: its overused. you have some great critiques in this review but sometimes you are writing lacks focus.   \n",
       "150191                                                                                                                                                                                                                                                                                                                                                                                                                                                 \"Yes hire Hollywood actors that cannot Voice Act for their Life, let us not hire Trained & Experienced VAs like Laura Bailey, Troy Baker, Nolan North, Ashley Johnson, Travis Willingham,  or any other Experienced Voice Actor.\"\\nF#ck me man.   \n",
       "135073                                                                                                                                                                                                                                                                                                                                                                                                                                                                                                                                                                                                                                                                                 Ohhh the irony!   \n",
       "143573                                                                                                                                                                                                                                                                                                                                                                                                                                                                                                                                                                                                                                                  Wow another good woman down cannot watch video   \n",
       "141581                                                                                                                                                                                                                                                                                                                                                                                                                                                                                                                                                                                                                                      She must be a pervert that just wants to see people nakid.   \n",
       "\n",
       "                                                                                                                                                                                                                                                                                                                                                                                                                                                                                                                                                                                                                                                                             processed_text  \\\n",
       "140719  this review is all over the place. one second your underplaying moriarty's importance in the original series the next you exaggerating it? \"this editing is the show makers calling you stupid\" and then ten seconds later \"this editing is really effective at putting you in sherlocks shoes\" its this damned if you do damned if you do not arguing style. really annoying to listen to. Its like you do not have anything to say sometimes and just insult things because a thought popped into your mind. about a minute later you have a valid critique of the editing: its overused. you have some great critiques in this review but sometimes you are writing lacks focus.   \n",
       "150191                                                                                                                                                                                                                                                                                                                                                                                                                                           \"Yes hire Hollywood actors that cannot Voice Act for their Life, let us not hire Trained & Experienced VAs like Laura Bailey, Troy Baker, Nolan North, Ashley Johnson, Travis Willingham, or any other Experienced Voice Actor.\" F me man.   \n",
       "135073                                                                                                                                                                                                                                                                                                                                                                                                                                                                                                                                                                                                                                                                      Ohhh the irony!   \n",
       "143573                                                                                                                                                                                                                                                                                                                                                                                                                                                                                                                                                                                                                                       Wow another good woman down cannot watch video   \n",
       "141581                                                                                                                                                                                                                                                                                                                                                                                                                                                                                                                                                                                                                           She must be a pervert that just wants to see people nakid.   \n",
       "\n",
       "        score  \n",
       "140719      0  \n",
       "150191      0  \n",
       "135073      0  \n",
       "143573      0  \n",
       "141581      0  "
      ]
     },
     "execution_count": 3,
     "metadata": {},
     "output_type": "execute_result"
    }
   ],
   "source": [
    "df.sample(n=5)"
   ]
  },
  {
   "cell_type": "code",
   "execution_count": 4,
   "metadata": {},
   "outputs": [],
   "source": [
    "# Display the 20 most present bi-grams\n",
    "def get_top_n_bigram(corpus, n=None):\n",
    "    vec = CountVectorizer(ngram_range=(2, 2), stop_words='english').fit(corpus)\n",
    "    bag_of_words = vec.transform(corpus)\n",
    "    sum_words = bag_of_words.sum(axis=0) \n",
    "    words_freq = [(word, sum_words[0, idx]) for word, idx in vec.vocabulary_.items()]\n",
    "    words_freq = sorted(words_freq, key = lambda x: x[1], reverse=True)\n",
    "    return words_freq[:n]\n",
    "\n",
    "common_words = get_top_n_bigram(df['processed_text'], 20)"
   ]
  },
  {
   "cell_type": "code",
   "execution_count": 5,
   "metadata": {},
   "outputs": [
    {
     "data": {
      "text/plain": [
       "[('years ago', 250),\n",
       " ('feel like', 160),\n",
       " ('trans women', 120),\n",
       " ('sounds like', 115),\n",
       " ('years later', 109),\n",
       " ('did know', 106),\n",
       " ('looks like', 106),\n",
       " ('tootsie rolls', 106),\n",
       " ('trans people', 97),\n",
       " ('year old', 89),\n",
       " ('sex ed', 88),\n",
       " ('look like', 86),\n",
       " ('did age', 86),\n",
       " ('middle child', 86),\n",
       " ('just like', 79),\n",
       " ('years old', 79),\n",
       " ('people like', 78),\n",
       " ('feel bad', 76),\n",
       " ('oh god', 76),\n",
       " ('does mean', 66)]"
      ]
     },
     "execution_count": 5,
     "metadata": {},
     "output_type": "execute_result"
    }
   ],
   "source": [
    "common_words"
   ]
  },
  {
   "cell_type": "code",
   "execution_count": 6,
   "metadata": {},
   "outputs": [
    {
     "data": {
      "text/html": [
       "<div>\n",
       "<style scoped>\n",
       "    .dataframe tbody tr th:only-of-type {\n",
       "        vertical-align: middle;\n",
       "    }\n",
       "\n",
       "    .dataframe tbody tr th {\n",
       "        vertical-align: top;\n",
       "    }\n",
       "\n",
       "    .dataframe thead th {\n",
       "        text-align: right;\n",
       "    }\n",
       "</style>\n",
       "<table border=\"1\" class=\"dataframe\">\n",
       "  <thead>\n",
       "    <tr style=\"text-align: right;\">\n",
       "      <th></th>\n",
       "      <th>Comment_Text</th>\n",
       "      <th>count</th>\n",
       "    </tr>\n",
       "  </thead>\n",
       "  <tbody>\n",
       "    <tr>\n",
       "      <th>0</th>\n",
       "      <td>years ago</td>\n",
       "      <td>250</td>\n",
       "    </tr>\n",
       "    <tr>\n",
       "      <th>1</th>\n",
       "      <td>feel like</td>\n",
       "      <td>160</td>\n",
       "    </tr>\n",
       "    <tr>\n",
       "      <th>2</th>\n",
       "      <td>trans women</td>\n",
       "      <td>120</td>\n",
       "    </tr>\n",
       "    <tr>\n",
       "      <th>3</th>\n",
       "      <td>sounds like</td>\n",
       "      <td>115</td>\n",
       "    </tr>\n",
       "    <tr>\n",
       "      <th>4</th>\n",
       "      <td>years later</td>\n",
       "      <td>109</td>\n",
       "    </tr>\n",
       "  </tbody>\n",
       "</table>\n",
       "</div>"
      ],
      "text/plain": [
       "  Comment_Text  count\n",
       "0    years ago    250\n",
       "1    feel like    160\n",
       "2  trans women    120\n",
       "3  sounds like    115\n",
       "4  years later    109"
      ]
     },
     "execution_count": 6,
     "metadata": {},
     "output_type": "execute_result"
    }
   ],
   "source": [
    "df1 = pd.DataFrame(common_words, columns = ['Comment_Text' , 'count'])\n",
    "df1.head()"
   ]
  },
  {
   "cell_type": "code",
   "execution_count": 7,
   "metadata": {},
   "outputs": [
    {
     "data": {
      "text/html": [
       "<div>\n",
       "<style scoped>\n",
       "    .dataframe tbody tr th:only-of-type {\n",
       "        vertical-align: middle;\n",
       "    }\n",
       "\n",
       "    .dataframe tbody tr th {\n",
       "        vertical-align: top;\n",
       "    }\n",
       "\n",
       "    .dataframe thead th {\n",
       "        text-align: right;\n",
       "    }\n",
       "</style>\n",
       "<table border=\"1\" class=\"dataframe\">\n",
       "  <thead>\n",
       "    <tr style=\"text-align: right;\">\n",
       "      <th></th>\n",
       "      <th>Comment_Text</th>\n",
       "      <th>count</th>\n",
       "    </tr>\n",
       "  </thead>\n",
       "  <tbody>\n",
       "    <tr>\n",
       "      <th>19</th>\n",
       "      <td>does mean</td>\n",
       "      <td>66</td>\n",
       "    </tr>\n",
       "    <tr>\n",
       "      <th>17</th>\n",
       "      <td>feel bad</td>\n",
       "      <td>76</td>\n",
       "    </tr>\n",
       "    <tr>\n",
       "      <th>18</th>\n",
       "      <td>oh god</td>\n",
       "      <td>76</td>\n",
       "    </tr>\n",
       "    <tr>\n",
       "      <th>16</th>\n",
       "      <td>people like</td>\n",
       "      <td>78</td>\n",
       "    </tr>\n",
       "    <tr>\n",
       "      <th>15</th>\n",
       "      <td>years old</td>\n",
       "      <td>79</td>\n",
       "    </tr>\n",
       "  </tbody>\n",
       "</table>\n",
       "</div>"
      ],
      "text/plain": [
       "   Comment_Text  count\n",
       "19    does mean     66\n",
       "17     feel bad     76\n",
       "18       oh god     76\n",
       "16  people like     78\n",
       "15    years old     79"
      ]
     },
     "execution_count": 7,
     "metadata": {},
     "output_type": "execute_result"
    }
   ],
   "source": [
    "df1_sorted = df1.sort_values(\"count\")\n",
    "df1_sorted.head()"
   ]
  },
  {
   "cell_type": "code",
   "execution_count": 8,
   "metadata": {},
   "outputs": [],
   "source": [
    "# df1.groupby('Comment_Text').sum()['count'].sort_values(ascending=False).iplot(\n",
    "#     kind='bar',\n",
    "#     yTitle='Count',\n",
    "#     linecolor='black',\n",
    "#     title='Top 20 bigrams in Comment before removing spams')"
   ]
  },
  {
   "cell_type": "code",
   "execution_count": 9,
   "metadata": {},
   "outputs": [
    {
     "data": {
      "text/plain": [
       "<Axes: title={'center': 'LGBT Channels - Top 20 Bigrams from Negative Comments'}, xlabel='Number of Repeats', ylabel='Bigrams'>"
      ]
     },
     "execution_count": 9,
     "metadata": {},
     "output_type": "execute_result"
    },
    {
     "data": {
      "image/png": "[encoded data removed]",
      "text/plain": [
       "<Figure size 640x480 with 1 Axes>"
      ]
     },
     "metadata": {},
     "output_type": "display_data"
    }
   ],
   "source": [
    "df1_sorted.plot.barh(x=\"Comment_Text\",\n",
    "                     title=\"LGBT Channels - Top 20 Bigrams from Negative Comments\",\n",
    "                     ylabel = \"Bigrams\",\n",
    "                     xlabel = \"Number of Repeats\",\n",
    "                     color = \"red\")"
   ]
  },
  {
   "cell_type": "code",
   "execution_count": null,
   "metadata": {},
   "outputs": [],
   "source": []
  }
 ],
 "metadata": {
  "kernelspec": {
   "display_name": "p4",
   "language": "python",
   "name": "python3"
  },
  "language_info": {
   "codemirror_mode": {
    "name": "ipython",
    "version": 3
   },
   "file_extension": ".py",
   "mimetype": "text/x-python",
   "name": "python",
   "nbconvert_exporter": "python",
   "pygments_lexer": "ipython3",
   "version": "3.11.4"
  },
  "orig_nbformat": 4
 },
 "nbformat": 4,
 "nbformat_minor": 2
}
