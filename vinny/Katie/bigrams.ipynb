{
 "cells": [
  {
   "cell_type": "code",
   "execution_count": 1,
   "metadata": {},
   "outputs": [
    {
     "data": {
      "text/html": [
       "        <script type=\"text/javascript\">\n",
       "        window.PlotlyConfig = {MathJaxConfig: 'local'};\n",
       "        if (window.MathJax && window.MathJax.Hub && window.MathJax.Hub.Config) {window.MathJax.Hub.Config({SVG: {font: \"STIX-Web\"}});}\n",
       "        if (typeof require !== 'undefined') {\n",
       "        require.undef(\"plotly\");\n",
       "        requirejs.config({\n",
       "            paths: {\n",
       "                'plotly': ['https://cdn.plot.ly/plotly-2.25.2.min']\n",
       "            }\n",
       "        });\n",
       "        require(['plotly'], function(Plotly) {\n",
       "            window._Plotly = Plotly;\n",
       "        });\n",
       "        }\n",
       "        </script>\n",
       "        "
      ]
     },
     "metadata": {},
     "output_type": "display_data"
    }
   ],
   "source": [
    "# N-gram and Wordcloud coding helping from Clément Delteil\n",
    "import csv\n",
    "import chart_studio\n",
    "import re\n",
    "import string\n",
    "# import emot\n",
    "import collections\n",
    "import ipywidgets\n",
    "import contractions\n",
    "import cufflinks\n",
    "import nltk.tokenize\n",
    "\n",
    "import chart_studio.plotly as py\n",
    "import chart_studio.tools as tls\n",
    "import plotly.express as px\n",
    "import plotly.io as pio\n",
    "import plotly.graph_objects as go\n",
    "import pandas as pd\n",
    "import matplotlib.pyplot as plt\n",
    "import matplotlib.font_manager as fm\n",
    "import numpy as np\n",
    "\n",
    "from textblob import TextBlob\n",
    "#from google.colab import widgets\n",
    "from sklearn.feature_extraction.text import CountVectorizer\n",
    "from nltk.tokenize import RegexpTokenizer\n",
    "from nltk.probability import FreqDist\n",
    "from nltk.stem import WordNetLemmatizer\n",
    "from nltk.corpus import stopwords\n",
    "from nltk.sentiment.vader import SentimentIntensityAnalyzer\n",
    "from wordcloud import WordCloud, STOPWORDS, ImageColorGenerator\n",
    "from PIL import Image\n",
    "\n",
    "pd.set_option('display.max_colwidth', None)\n",
    "sid = SentimentIntensityAnalyzer()\n",
    "# emot_obj = emot.core.emot()\n",
    "cufflinks.set_config_file(world_readable=True, theme='pearl')\n",
    "cufflinks.go_offline()\n",
    "pio.renderers.default = 'colab'"
   ]
  },
  {
   "cell_type": "code",
   "execution_count": 2,
   "metadata": {},
   "outputs": [],
   "source": [
    "df = pd.read_json(\"../final_data_for_machine_learning.json\")"
   ]
  },
  {
   "cell_type": "code",
   "execution_count": 3,
   "metadata": {},
   "outputs": [
    {
     "data": {
      "text/html": [
       "<div>\n",
       "<style scoped>\n",
       "    .dataframe tbody tr th:only-of-type {\n",
       "        vertical-align: middle;\n",
       "    }\n",
       "\n",
       "    .dataframe tbody tr th {\n",
       "        vertical-align: top;\n",
       "    }\n",
       "\n",
       "    .dataframe thead th {\n",
       "        text-align: right;\n",
       "    }\n",
       "</style>\n",
       "<table border=\"1\" class=\"dataframe\">\n",
       "  <thead>\n",
       "    <tr style=\"text-align: right;\">\n",
       "      <th></th>\n",
       "      <th>comment</th>\n",
       "      <th>category</th>\n",
       "      <th>channel</th>\n",
       "      <th>video_url</th>\n",
       "      <th>video_id</th>\n",
       "      <th>channel_size</th>\n",
       "      <th>identity</th>\n",
       "      <th>expanded_text</th>\n",
       "      <th>processed_text</th>\n",
       "      <th>score</th>\n",
       "    </tr>\n",
       "  </thead>\n",
       "  <tbody>\n",
       "    <tr>\n",
       "      <th>59344</th>\n",
       "      <td>Deadshot is gone.\\nits, SlapDead now</td>\n",
       "      <td>Film</td>\n",
       "      <td>https://www.youtube.com/@flashbackfm</td>\n",
       "      <td>https://www.youtube.com/watch?v=SF0w2B6DNUE</td>\n",
       "      <td>SF0w2B6DNUE</td>\n",
       "      <td>large</td>\n",
       "      <td>unknown</td>\n",
       "      <td>Deadshot is gone.\\nits, SlapDead now</td>\n",
       "      <td>Deadshot is gone. its, SlapDead now</td>\n",
       "      <td>0</td>\n",
       "    </tr>\n",
       "    <tr>\n",
       "      <th>185897</th>\n",
       "      <td>Coś pięknego .Nie moge przestać tego słuchać. A przed wszystkim głosu Caseya</td>\n",
       "      <td>People</td>\n",
       "      <td>https://www.youtube.com/@samtsui</td>\n",
       "      <td>https://www.youtube.com/watch?v=gGgakt3niys</td>\n",
       "      <td>gGgakt3niys</td>\n",
       "      <td>small</td>\n",
       "      <td>lgbt</td>\n",
       "      <td>Coś pięknego .Nie moge przestać tego słuchać. A przed wszystkim głosu Caseya</td>\n",
       "      <td>Coś pięknego .Nie moge przestać tego słuchać. A przed wszystkim głosu Caseya</td>\n",
       "      <td>1</td>\n",
       "    </tr>\n",
       "    <tr>\n",
       "      <th>62321</th>\n",
       "      <td>Tobey is a better acter</td>\n",
       "      <td>Film</td>\n",
       "      <td>https://www.youtube.com/@topmovieclips5056</td>\n",
       "      <td>https://www.youtube.com/watch?v=TcGHKrh8J8I</td>\n",
       "      <td>TcGHKrh8J8I</td>\n",
       "      <td>large</td>\n",
       "      <td>unknown</td>\n",
       "      <td>Tobey is a better acter</td>\n",
       "      <td>Tobey is a better acter</td>\n",
       "      <td>1</td>\n",
       "    </tr>\n",
       "    <tr>\n",
       "      <th>120525</th>\n",
       "      <td>Keemstar, the macho-chad</td>\n",
       "      <td>Problematic</td>\n",
       "      <td>https://www.youtube.com/@DramaAlert</td>\n",
       "      <td>https://www.youtube.com/watch?v=n38Qxi7TVWo</td>\n",
       "      <td>n38Qxi7TVWo</td>\n",
       "      <td>large</td>\n",
       "      <td>unknown</td>\n",
       "      <td>Keemstar, the macho-chad</td>\n",
       "      <td>Keemstar, the macho-chad</td>\n",
       "      <td>1</td>\n",
       "    </tr>\n",
       "    <tr>\n",
       "      <th>9431</th>\n",
       "      <td>The music so is fucking annoying, its just the same loop over and over again with a one second pause between it and it so fucking annoying.</td>\n",
       "      <td>Film</td>\n",
       "      <td>https://www.youtube.com/@TheFilmJunkee</td>\n",
       "      <td>https://www.youtube.com/watch?v=EhSFtCfb5UQ</td>\n",
       "      <td>EhSFtCfb5UQ</td>\n",
       "      <td>small</td>\n",
       "      <td>unknown</td>\n",
       "      <td>The music so is fucking annoying, its just the same loop over and over again with a one second pause between it and it so fucking annoying.</td>\n",
       "      <td>The music so is fucking annoying, its just the same loop over and over again with a one second pause between it and it so fucking annoying.</td>\n",
       "      <td>0</td>\n",
       "    </tr>\n",
       "  </tbody>\n",
       "</table>\n",
       "</div>"
      ],
      "text/plain": [
       "                                                                                                                                            comment  \\\n",
       "59344                                                                                                          Deadshot is gone.\\nits, SlapDead now   \n",
       "185897                                                                 Coś pięknego .Nie moge przestać tego słuchać. A przed wszystkim głosu Caseya   \n",
       "62321                                                                                                                       Tobey is a better acter   \n",
       "120525                                                                                                                     Keemstar, the macho-chad   \n",
       "9431    The music so is fucking annoying, its just the same loop over and over again with a one second pause between it and it so fucking annoying.   \n",
       "\n",
       "           category                                     channel  \\\n",
       "59344          Film        https://www.youtube.com/@flashbackfm   \n",
       "185897       People            https://www.youtube.com/@samtsui   \n",
       "62321          Film  https://www.youtube.com/@topmovieclips5056   \n",
       "120525  Problematic         https://www.youtube.com/@DramaAlert   \n",
       "9431           Film      https://www.youtube.com/@TheFilmJunkee   \n",
       "\n",
       "                                          video_url     video_id channel_size  \\\n",
       "59344   https://www.youtube.com/watch?v=SF0w2B6DNUE  SF0w2B6DNUE        large   \n",
       "185897  https://www.youtube.com/watch?v=gGgakt3niys  gGgakt3niys        small   \n",
       "62321   https://www.youtube.com/watch?v=TcGHKrh8J8I  TcGHKrh8J8I        large   \n",
       "120525  https://www.youtube.com/watch?v=n38Qxi7TVWo  n38Qxi7TVWo        large   \n",
       "9431    https://www.youtube.com/watch?v=EhSFtCfb5UQ  EhSFtCfb5UQ        small   \n",
       "\n",
       "       identity  \\\n",
       "59344   unknown   \n",
       "185897     lgbt   \n",
       "62321   unknown   \n",
       "120525  unknown   \n",
       "9431    unknown   \n",
       "\n",
       "                                                                                                                                      expanded_text  \\\n",
       "59344                                                                                                          Deadshot is gone.\\nits, SlapDead now   \n",
       "185897                                                                 Coś pięknego .Nie moge przestać tego słuchać. A przed wszystkim głosu Caseya   \n",
       "62321                                                                                                                       Tobey is a better acter   \n",
       "120525                                                                                                                     Keemstar, the macho-chad   \n",
       "9431    The music so is fucking annoying, its just the same loop over and over again with a one second pause between it and it so fucking annoying.   \n",
       "\n",
       "                                                                                                                                     processed_text  \\\n",
       "59344                                                                                                           Deadshot is gone. its, SlapDead now   \n",
       "185897                                                                 Coś pięknego .Nie moge przestać tego słuchać. A przed wszystkim głosu Caseya   \n",
       "62321                                                                                                                       Tobey is a better acter   \n",
       "120525                                                                                                                     Keemstar, the macho-chad   \n",
       "9431    The music so is fucking annoying, its just the same loop over and over again with a one second pause between it and it so fucking annoying.   \n",
       "\n",
       "        score  \n",
       "59344       0  \n",
       "185897      1  \n",
       "62321       1  \n",
       "120525      1  \n",
       "9431        0  "
      ]
     },
     "execution_count": 3,
     "metadata": {},
     "output_type": "execute_result"
    }
   ],
   "source": [
    "df.sample(n=5)"
   ]
  },
  {
   "cell_type": "code",
   "execution_count": 4,
   "metadata": {},
   "outputs": [],
   "source": [
    "# Display the 20 most present bi-grams\n",
    "def get_top_n_bigram(corpus, n=None):\n",
    "    vec = CountVectorizer(ngram_range=(3, 3), stop_words='english').fit(corpus)\n",
    "    bag_of_words = vec.transform(corpus)\n",
    "    sum_words = bag_of_words.sum(axis=0) \n",
    "    words_freq = [(word, sum_words[0, idx]) for word, idx in vec.vocabulary_.items()]\n",
    "    words_freq = sorted(words_freq, key = lambda x: x[1], reverse=True)\n",
    "    return words_freq[:n]\n",
    "\n",
    "common_words = get_top_n_bigram(df['processed_text'], 20)"
   ]
  },
  {
   "cell_type": "code",
   "execution_count": 5,
   "metadata": {},
   "outputs": [
    {
     "data": {
      "text/plain": [
       "[('lama lama lama', 141),\n",
       " ('ha ha ha', 133),\n",
       " ('happy 7th anniversary', 125),\n",
       " ('pov watching 2023', 115),\n",
       " ('250 тысяч тонн', 90),\n",
       " ('сброшу на вас', 89),\n",
       " ('на вас 250', 78),\n",
       " ('love love love', 73),\n",
       " ('bile emekli olurkengün', 66),\n",
       " ('emekli olurkengün bile', 66),\n",
       " ('olurkengün bile emekli', 66),\n",
       " ('good old days', 64),\n",
       " ('does look like', 64),\n",
       " ('does make sense', 63),\n",
       " ('тысяч тонн тротила', 62),\n",
       " ('grants pass oregon', 61),\n",
       " ('long time ago', 58),\n",
       " ('7th anniversary blackpink', 58),\n",
       " ('вас 250 тысяч', 57),\n",
       " ('yes yes yes', 55)]"
      ]
     },
     "execution_count": 5,
     "metadata": {},
     "output_type": "execute_result"
    }
   ],
   "source": [
    "common_words"
   ]
  },
  {
   "cell_type": "code",
   "execution_count": 6,
   "metadata": {},
   "outputs": [
    {
     "data": {
      "text/html": [
       "<div>\n",
       "<style scoped>\n",
       "    .dataframe tbody tr th:only-of-type {\n",
       "        vertical-align: middle;\n",
       "    }\n",
       "\n",
       "    .dataframe tbody tr th {\n",
       "        vertical-align: top;\n",
       "    }\n",
       "\n",
       "    .dataframe thead th {\n",
       "        text-align: right;\n",
       "    }\n",
       "</style>\n",
       "<table border=\"1\" class=\"dataframe\">\n",
       "  <thead>\n",
       "    <tr style=\"text-align: right;\">\n",
       "      <th></th>\n",
       "      <th>Comment_Text</th>\n",
       "      <th>count</th>\n",
       "    </tr>\n",
       "  </thead>\n",
       "  <tbody>\n",
       "    <tr>\n",
       "      <th>0</th>\n",
       "      <td>lama lama lama</td>\n",
       "      <td>141</td>\n",
       "    </tr>\n",
       "    <tr>\n",
       "      <th>1</th>\n",
       "      <td>ha ha ha</td>\n",
       "      <td>133</td>\n",
       "    </tr>\n",
       "    <tr>\n",
       "      <th>2</th>\n",
       "      <td>happy 7th anniversary</td>\n",
       "      <td>125</td>\n",
       "    </tr>\n",
       "    <tr>\n",
       "      <th>3</th>\n",
       "      <td>pov watching 2023</td>\n",
       "      <td>115</td>\n",
       "    </tr>\n",
       "    <tr>\n",
       "      <th>4</th>\n",
       "      <td>250 тысяч тонн</td>\n",
       "      <td>90</td>\n",
       "    </tr>\n",
       "  </tbody>\n",
       "</table>\n",
       "</div>"
      ],
      "text/plain": [
       "            Comment_Text  count\n",
       "0         lama lama lama    141\n",
       "1               ha ha ha    133\n",
       "2  happy 7th anniversary    125\n",
       "3      pov watching 2023    115\n",
       "4         250 тысяч тонн     90"
      ]
     },
     "execution_count": 6,
     "metadata": {},
     "output_type": "execute_result"
    }
   ],
   "source": [
    "df1 = pd.DataFrame(common_words, columns = ['Comment_Text' , 'count'])\n",
    "df1.head()"
   ]
  },
  {
   "cell_type": "code",
   "execution_count": 7,
   "metadata": {},
   "outputs": [
    {
     "data": {
      "text/html": [
       "<div>\n",
       "<style scoped>\n",
       "    .dataframe tbody tr th:only-of-type {\n",
       "        vertical-align: middle;\n",
       "    }\n",
       "\n",
       "    .dataframe tbody tr th {\n",
       "        vertical-align: top;\n",
       "    }\n",
       "\n",
       "    .dataframe thead th {\n",
       "        text-align: right;\n",
       "    }\n",
       "</style>\n",
       "<table border=\"1\" class=\"dataframe\">\n",
       "  <thead>\n",
       "    <tr style=\"text-align: right;\">\n",
       "      <th></th>\n",
       "      <th>Comment_Text</th>\n",
       "      <th>count</th>\n",
       "    </tr>\n",
       "  </thead>\n",
       "  <tbody>\n",
       "    <tr>\n",
       "      <th>19</th>\n",
       "      <td>yes yes yes</td>\n",
       "      <td>55</td>\n",
       "    </tr>\n",
       "    <tr>\n",
       "      <th>18</th>\n",
       "      <td>вас 250 тысяч</td>\n",
       "      <td>57</td>\n",
       "    </tr>\n",
       "    <tr>\n",
       "      <th>17</th>\n",
       "      <td>7th anniversary blackpink</td>\n",
       "      <td>58</td>\n",
       "    </tr>\n",
       "    <tr>\n",
       "      <th>16</th>\n",
       "      <td>long time ago</td>\n",
       "      <td>58</td>\n",
       "    </tr>\n",
       "    <tr>\n",
       "      <th>15</th>\n",
       "      <td>grants pass oregon</td>\n",
       "      <td>61</td>\n",
       "    </tr>\n",
       "  </tbody>\n",
       "</table>\n",
       "</div>"
      ],
      "text/plain": [
       "                 Comment_Text  count\n",
       "19                yes yes yes     55\n",
       "18              вас 250 тысяч     57\n",
       "17  7th anniversary blackpink     58\n",
       "16              long time ago     58\n",
       "15         grants pass oregon     61"
      ]
     },
     "execution_count": 7,
     "metadata": {},
     "output_type": "execute_result"
    }
   ],
   "source": [
    "df1_sorted = df1.sort_values(\"count\")\n",
    "df1_sorted.head()"
   ]
  },
  {
   "cell_type": "code",
   "execution_count": 8,
   "metadata": {},
   "outputs": [],
   "source": [
    "# df1.groupby('Comment_Text').sum()['count'].sort_values(ascending=False).iplot(\n",
    "#     kind='bar',\n",
    "#     yTitle='Count',\n",
    "#     linecolor='black',\n",
    "#     title='Top 20 bigrams in Comment before removing spams')"
   ]
  },
  {
   "cell_type": "code",
   "execution_count": 9,
   "metadata": {},
   "outputs": [
    {
     "data": {
      "text/plain": [
       "<Axes: ylabel='Comment_Text'>"
      ]
     },
     "execution_count": 9,
     "metadata": {},
     "output_type": "execute_result"
    },
    {
     "data": {
      "image/png": "[encoded data removed]",
      "text/plain": [
       "<Figure size 640x480 with 1 Axes>"
      ]
     },
     "metadata": {},
     "output_type": "display_data"
    }
   ],
   "source": [
    "df1_sorted.plot.barh(x=\"Comment_Text\")"
   ]
  },
  {
   "cell_type": "code",
   "execution_count": null,
   "metadata": {},
   "outputs": [],
   "source": []
  }
 ],
 "metadata": {
  "kernelspec": {
   "display_name": "p4",
   "language": "python",
   "name": "python3"
  },
  "language_info": {
   "codemirror_mode": {
    "name": "ipython",
    "version": 3
   },
   "file_extension": ".py",
   "mimetype": "text/x-python",
   "name": "python",
   "nbconvert_exporter": "python",
   "pygments_lexer": "ipython3",
   "version": "3.11.4"
  },
  "orig_nbformat": 4
 },
 "nbformat": 4,
 "nbformat_minor": 2
}
