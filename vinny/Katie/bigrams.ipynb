{
 "cells": [
  {
   "cell_type": "code",
   "execution_count": 1,
   "metadata": {},
   "outputs": [
    {
     "data": {
      "text/html": [
       "        <script type=\"text/javascript\">\n",
       "        window.PlotlyConfig = {MathJaxConfig: 'local'};\n",
       "        if (window.MathJax && window.MathJax.Hub && window.MathJax.Hub.Config) {window.MathJax.Hub.Config({SVG: {font: \"STIX-Web\"}});}\n",
       "        if (typeof require !== 'undefined') {\n",
       "        require.undef(\"plotly\");\n",
       "        requirejs.config({\n",
       "            paths: {\n",
       "                'plotly': ['https://cdn.plot.ly/plotly-2.25.2.min']\n",
       "            }\n",
       "        });\n",
       "        require(['plotly'], function(Plotly) {\n",
       "            window._Plotly = Plotly;\n",
       "        });\n",
       "        }\n",
       "        </script>\n",
       "        "
      ]
     },
     "metadata": {},
     "output_type": "display_data"
    }
   ],
   "source": [
    "# N-gram and Wordcloud coding helping from Clément Delteil\n",
    "import csv\n",
    "import chart_studio\n",
    "import re\n",
    "import string\n",
    "# import emot\n",
    "import collections\n",
    "import ipywidgets\n",
    "import contractions\n",
    "import cufflinks\n",
    "import nltk.tokenize\n",
    "\n",
    "import chart_studio.plotly as py\n",
    "import chart_studio.tools as tls\n",
    "import plotly.express as px\n",
    "import plotly.io as pio\n",
    "import plotly.graph_objects as go\n",
    "import pandas as pd\n",
    "import matplotlib.pyplot as plt\n",
    "import matplotlib.font_manager as fm\n",
    "import numpy as np\n",
    "\n",
    "from textblob import TextBlob\n",
    "#from google.colab import widgets\n",
    "from sklearn.feature_extraction.text import CountVectorizer\n",
    "from nltk.tokenize import RegexpTokenizer\n",
    "from nltk.probability import FreqDist\n",
    "from nltk.stem import WordNetLemmatizer\n",
    "from nltk.corpus import stopwords\n",
    "from nltk.sentiment.vader import SentimentIntensityAnalyzer\n",
    "from wordcloud import WordCloud, STOPWORDS, ImageColorGenerator\n",
    "from PIL import Image\n",
    "\n",
    "pd.set_option('display.max_colwidth', None)\n",
    "sid = SentimentIntensityAnalyzer()\n",
    "# emot_obj = emot.core.emot()\n",
    "cufflinks.set_config_file(world_readable=True, theme='pearl')\n",
    "cufflinks.go_offline()\n",
    "pio.renderers.default = 'colab'"
   ]
  },
  {
   "cell_type": "code",
   "execution_count": 2,
   "metadata": {},
   "outputs": [],
   "source": [
    "df = pd.read_json(\"../final_data_for_machine_learning.json\")\n",
    "df = df[(df[\"category\"]==\"Education\")&(df[\"score\"]==2)]"
   ]
  },
  {
   "cell_type": "code",
   "execution_count": 3,
   "metadata": {},
   "outputs": [
    {
     "data": {
      "text/html": [
       "<div>\n",
       "<style scoped>\n",
       "    .dataframe tbody tr th:only-of-type {\n",
       "        vertical-align: middle;\n",
       "    }\n",
       "\n",
       "    .dataframe tbody tr th {\n",
       "        vertical-align: top;\n",
       "    }\n",
       "\n",
       "    .dataframe thead th {\n",
       "        text-align: right;\n",
       "    }\n",
       "</style>\n",
       "<table border=\"1\" class=\"dataframe\">\n",
       "  <thead>\n",
       "    <tr style=\"text-align: right;\">\n",
       "      <th></th>\n",
       "      <th>comment</th>\n",
       "      <th>category</th>\n",
       "      <th>channel</th>\n",
       "      <th>video_url</th>\n",
       "      <th>video_id</th>\n",
       "      <th>channel_size</th>\n",
       "      <th>identity</th>\n",
       "      <th>expanded_text</th>\n",
       "      <th>processed_text</th>\n",
       "      <th>score</th>\n",
       "    </tr>\n",
       "  </thead>\n",
       "  <tbody>\n",
       "    <tr>\n",
       "      <th>138129</th>\n",
       "      <td>love the movie reference at 2:02 😂</td>\n",
       "      <td>Education</td>\n",
       "      <td>https://www.youtube.com/@PhilosophyTube</td>\n",
       "      <td>https://www.youtube.com/watch?v=m81q-ZkfBm0</td>\n",
       "      <td>m81q-ZkfBm0</td>\n",
       "      <td>small</td>\n",
       "      <td>lgbt</td>\n",
       "      <td>love the movie reference at 2:02 😂</td>\n",
       "      <td>love the movie reference at 2:02 😂</td>\n",
       "      <td>2</td>\n",
       "    </tr>\n",
       "    <tr>\n",
       "      <th>141128</th>\n",
       "      <td>you're freaking beautiful.</td>\n",
       "      <td>Education</td>\n",
       "      <td>https://www.youtube.com/@lacigreen</td>\n",
       "      <td>https://www.youtube.com/watch?v=wh4nUlslmso</td>\n",
       "      <td>wh4nUlslmso</td>\n",
       "      <td>small</td>\n",
       "      <td>lgbt</td>\n",
       "      <td>you are freaking beautiful.</td>\n",
       "      <td>you are freaking beautiful.</td>\n",
       "      <td>2</td>\n",
       "    </tr>\n",
       "    <tr>\n",
       "      <th>140532</th>\n",
       "      <td>I loved Sherlock and Coupling.</td>\n",
       "      <td>Education</td>\n",
       "      <td>https://www.youtube.com/@hbomberguy</td>\n",
       "      <td>https://www.youtube.com/watch?v=LkoGBOs5ecM</td>\n",
       "      <td>LkoGBOs5ecM</td>\n",
       "      <td>small</td>\n",
       "      <td>lgbt</td>\n",
       "      <td>I loved Sherlock and Coupling.</td>\n",
       "      <td>I loved Sherlock and Coupling.</td>\n",
       "      <td>2</td>\n",
       "    </tr>\n",
       "    <tr>\n",
       "      <th>137953</th>\n",
       "      <td>25:00 oh that's a good one. Socialists don't really act on \"resentment\", they act on \"Ressentiment\", which is a much more narrow term.</td>\n",
       "      <td>Education</td>\n",
       "      <td>https://www.youtube.com/@PhilosophyTube</td>\n",
       "      <td>https://www.youtube.com/watch?v=m81q-ZkfBm0</td>\n",
       "      <td>m81q-ZkfBm0</td>\n",
       "      <td>small</td>\n",
       "      <td>lgbt</td>\n",
       "      <td>25:00 oh that is a good one. Socialists do not really act on \"resentment\", they act on \"Ressentiment\", which is a much more narrow term.</td>\n",
       "      <td>25:00 oh that is a good one. Socialists do not really act on \"resentment\", they act on \"Ressentiment\", which is a much more narrow term.</td>\n",
       "      <td>2</td>\n",
       "    </tr>\n",
       "    <tr>\n",
       "      <th>138435</th>\n",
       "      <td>omg, new motto : being wrong in interesting ways</td>\n",
       "      <td>Education</td>\n",
       "      <td>https://www.youtube.com/@PhilosophyTube</td>\n",
       "      <td>https://www.youtube.com/watch?v=m81q-ZkfBm0</td>\n",
       "      <td>m81q-ZkfBm0</td>\n",
       "      <td>small</td>\n",
       "      <td>lgbt</td>\n",
       "      <td>omg, new motto : being wrong in interesting ways</td>\n",
       "      <td>omg, new motto : being wrong in interesting ways</td>\n",
       "      <td>2</td>\n",
       "    </tr>\n",
       "  </tbody>\n",
       "</table>\n",
       "</div>"
      ],
      "text/plain": [
       "                                                                                                                                       comment  \\\n",
       "138129                                                                                                      love the movie reference at 2:02 😂   \n",
       "141128                                                                                                              you're freaking beautiful.   \n",
       "140532                                                                                                          I loved Sherlock and Coupling.   \n",
       "137953  25:00 oh that's a good one. Socialists don't really act on \"resentment\", they act on \"Ressentiment\", which is a much more narrow term.   \n",
       "138435                                                                                        omg, new motto : being wrong in interesting ways   \n",
       "\n",
       "         category                                  channel  \\\n",
       "138129  Education  https://www.youtube.com/@PhilosophyTube   \n",
       "141128  Education       https://www.youtube.com/@lacigreen   \n",
       "140532  Education      https://www.youtube.com/@hbomberguy   \n",
       "137953  Education  https://www.youtube.com/@PhilosophyTube   \n",
       "138435  Education  https://www.youtube.com/@PhilosophyTube   \n",
       "\n",
       "                                          video_url     video_id channel_size  \\\n",
       "138129  https://www.youtube.com/watch?v=m81q-ZkfBm0  m81q-ZkfBm0        small   \n",
       "141128  https://www.youtube.com/watch?v=wh4nUlslmso  wh4nUlslmso        small   \n",
       "140532  https://www.youtube.com/watch?v=LkoGBOs5ecM  LkoGBOs5ecM        small   \n",
       "137953  https://www.youtube.com/watch?v=m81q-ZkfBm0  m81q-ZkfBm0        small   \n",
       "138435  https://www.youtube.com/watch?v=m81q-ZkfBm0  m81q-ZkfBm0        small   \n",
       "\n",
       "       identity  \\\n",
       "138129     lgbt   \n",
       "141128     lgbt   \n",
       "140532     lgbt   \n",
       "137953     lgbt   \n",
       "138435     lgbt   \n",
       "\n",
       "                                                                                                                                   expanded_text  \\\n",
       "138129                                                                                                        love the movie reference at 2:02 😂   \n",
       "141128                                                                                                               you are freaking beautiful.   \n",
       "140532                                                                                                            I loved Sherlock and Coupling.   \n",
       "137953  25:00 oh that is a good one. Socialists do not really act on \"resentment\", they act on \"Ressentiment\", which is a much more narrow term.   \n",
       "138435                                                                                          omg, new motto : being wrong in interesting ways   \n",
       "\n",
       "                                                                                                                                  processed_text  \\\n",
       "138129                                                                                                        love the movie reference at 2:02 😂   \n",
       "141128                                                                                                               you are freaking beautiful.   \n",
       "140532                                                                                                            I loved Sherlock and Coupling.   \n",
       "137953  25:00 oh that is a good one. Socialists do not really act on \"resentment\", they act on \"Ressentiment\", which is a much more narrow term.   \n",
       "138435                                                                                          omg, new motto : being wrong in interesting ways   \n",
       "\n",
       "        score  \n",
       "138129      2  \n",
       "141128      2  \n",
       "140532      2  \n",
       "137953      2  \n",
       "138435      2  "
      ]
     },
     "execution_count": 3,
     "metadata": {},
     "output_type": "execute_result"
    }
   ],
   "source": [
    "df.sample(n=5)"
   ]
  },
  {
   "cell_type": "code",
   "execution_count": 4,
   "metadata": {},
   "outputs": [],
   "source": [
    "# Display the 20 most present bi-grams\n",
    "def get_top_n_bigram(corpus, n=None):\n",
    "    vec = CountVectorizer(ngram_range=(2, 2), stop_words='english').fit(corpus)\n",
    "    bag_of_words = vec.transform(corpus)\n",
    "    sum_words = bag_of_words.sum(axis=0) \n",
    "    words_freq = [(word, sum_words[0, idx]) for word, idx in vec.vocabulary_.items()]\n",
    "    words_freq = sorted(words_freq, key = lambda x: x[1], reverse=True)\n",
    "    return words_freq[:n]\n",
    "\n",
    "common_words = get_top_n_bigram(df['processed_text'], 20)"
   ]
  },
  {
   "cell_type": "code",
   "execution_count": 5,
   "metadata": {},
   "outputs": [
    {
     "data": {
      "text/plain": [
       "[('middle child', 39),\n",
       " ('sherlock holmes', 20),\n",
       " ('jordan peterson', 18),\n",
       " ('sex ed', 16),\n",
       " ('don ho', 13),\n",
       " ('youngest child', 11),\n",
       " ('did know', 10),\n",
       " ('oldest child', 10),\n",
       " ('long time', 9),\n",
       " ('feel like', 9),\n",
       " ('laci green', 9),\n",
       " ('pretty good', 8),\n",
       " ('tiny bubbles', 8),\n",
       " ('watched video', 7),\n",
       " ('great video', 7),\n",
       " ('hear yanny', 7),\n",
       " ('hear laurel', 7),\n",
       " ('love beedrill', 7),\n",
       " ('good video', 6),\n",
       " ('great content', 6)]"
      ]
     },
     "execution_count": 5,
     "metadata": {},
     "output_type": "execute_result"
    }
   ],
   "source": [
    "common_words"
   ]
  },
  {
   "cell_type": "code",
   "execution_count": 6,
   "metadata": {},
   "outputs": [
    {
     "data": {
      "text/html": [
       "<div>\n",
       "<style scoped>\n",
       "    .dataframe tbody tr th:only-of-type {\n",
       "        vertical-align: middle;\n",
       "    }\n",
       "\n",
       "    .dataframe tbody tr th {\n",
       "        vertical-align: top;\n",
       "    }\n",
       "\n",
       "    .dataframe thead th {\n",
       "        text-align: right;\n",
       "    }\n",
       "</style>\n",
       "<table border=\"1\" class=\"dataframe\">\n",
       "  <thead>\n",
       "    <tr style=\"text-align: right;\">\n",
       "      <th></th>\n",
       "      <th>Comment_Text</th>\n",
       "      <th>count</th>\n",
       "    </tr>\n",
       "  </thead>\n",
       "  <tbody>\n",
       "    <tr>\n",
       "      <th>0</th>\n",
       "      <td>middle child</td>\n",
       "      <td>39</td>\n",
       "    </tr>\n",
       "    <tr>\n",
       "      <th>1</th>\n",
       "      <td>sherlock holmes</td>\n",
       "      <td>20</td>\n",
       "    </tr>\n",
       "    <tr>\n",
       "      <th>2</th>\n",
       "      <td>jordan peterson</td>\n",
       "      <td>18</td>\n",
       "    </tr>\n",
       "    <tr>\n",
       "      <th>3</th>\n",
       "      <td>sex ed</td>\n",
       "      <td>16</td>\n",
       "    </tr>\n",
       "    <tr>\n",
       "      <th>4</th>\n",
       "      <td>don ho</td>\n",
       "      <td>13</td>\n",
       "    </tr>\n",
       "  </tbody>\n",
       "</table>\n",
       "</div>"
      ],
      "text/plain": [
       "      Comment_Text  count\n",
       "0     middle child     39\n",
       "1  sherlock holmes     20\n",
       "2  jordan peterson     18\n",
       "3           sex ed     16\n",
       "4           don ho     13"
      ]
     },
     "execution_count": 6,
     "metadata": {},
     "output_type": "execute_result"
    }
   ],
   "source": [
    "df1 = pd.DataFrame(common_words, columns = ['Comment_Text' , 'count'])\n",
    "df1.head()"
   ]
  },
  {
   "cell_type": "code",
   "execution_count": 7,
   "metadata": {},
   "outputs": [
    {
     "data": {
      "text/html": [
       "<div>\n",
       "<style scoped>\n",
       "    .dataframe tbody tr th:only-of-type {\n",
       "        vertical-align: middle;\n",
       "    }\n",
       "\n",
       "    .dataframe tbody tr th {\n",
       "        vertical-align: top;\n",
       "    }\n",
       "\n",
       "    .dataframe thead th {\n",
       "        text-align: right;\n",
       "    }\n",
       "</style>\n",
       "<table border=\"1\" class=\"dataframe\">\n",
       "  <thead>\n",
       "    <tr style=\"text-align: right;\">\n",
       "      <th></th>\n",
       "      <th>Comment_Text</th>\n",
       "      <th>count</th>\n",
       "    </tr>\n",
       "  </thead>\n",
       "  <tbody>\n",
       "    <tr>\n",
       "      <th>19</th>\n",
       "      <td>great content</td>\n",
       "      <td>6</td>\n",
       "    </tr>\n",
       "    <tr>\n",
       "      <th>18</th>\n",
       "      <td>good video</td>\n",
       "      <td>6</td>\n",
       "    </tr>\n",
       "    <tr>\n",
       "      <th>17</th>\n",
       "      <td>love beedrill</td>\n",
       "      <td>7</td>\n",
       "    </tr>\n",
       "    <tr>\n",
       "      <th>16</th>\n",
       "      <td>hear laurel</td>\n",
       "      <td>7</td>\n",
       "    </tr>\n",
       "    <tr>\n",
       "      <th>15</th>\n",
       "      <td>hear yanny</td>\n",
       "      <td>7</td>\n",
       "    </tr>\n",
       "  </tbody>\n",
       "</table>\n",
       "</div>"
      ],
      "text/plain": [
       "     Comment_Text  count\n",
       "19  great content      6\n",
       "18     good video      6\n",
       "17  love beedrill      7\n",
       "16    hear laurel      7\n",
       "15     hear yanny      7"
      ]
     },
     "execution_count": 7,
     "metadata": {},
     "output_type": "execute_result"
    }
   ],
   "source": [
    "df1_sorted = df1.sort_values(\"count\")\n",
    "df1_sorted.head()"
   ]
  },
  {
   "cell_type": "code",
   "execution_count": 8,
   "metadata": {},
   "outputs": [],
   "source": [
    "# df1.groupby('Comment_Text').sum()['count'].sort_values(ascending=False).iplot(\n",
    "#     kind='bar',\n",
    "#     yTitle='Count',\n",
    "#     linecolor='black',\n",
    "#     title='Top 20 bigrams in Comment before removing spams')"
   ]
  },
  {
   "cell_type": "code",
   "execution_count": 9,
   "metadata": {},
   "outputs": [
    {
     "data": {
      "text/plain": [
       "<Axes: ylabel='Comment_Text'>"
      ]
     },
     "execution_count": 9,
     "metadata": {},
     "output_type": "execute_result"
    },
    {
     "data": {
      "image/png": "[encoded data removed]",
      "text/plain": [
       "<Figure size 640x480 with 1 Axes>"
      ]
     },
     "metadata": {},
     "output_type": "display_data"
    }
   ],
   "source": [
    "df1_sorted.plot.barh(x=\"Comment_Text\")"
   ]
  },
  {
   "cell_type": "code",
   "execution_count": null,
   "metadata": {},
   "outputs": [],
   "source": []
  }
 ],
 "metadata": {
  "kernelspec": {
   "display_name": "p4",
   "language": "python",
   "name": "python3"
  },
  "language_info": {
   "codemirror_mode": {
    "name": "ipython",
    "version": 3
   },
   "file_extension": ".py",
   "mimetype": "text/x-python",
   "name": "python",
   "nbconvert_exporter": "python",
   "pygments_lexer": "ipython3",
   "version": "3.11.4"
  },
  "orig_nbformat": 4
 },
 "nbformat": 4,
 "nbformat_minor": 2
}
